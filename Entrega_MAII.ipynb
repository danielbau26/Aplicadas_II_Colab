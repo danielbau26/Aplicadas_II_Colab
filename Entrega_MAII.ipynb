{
  "nbformat": 4,
  "nbformat_minor": 0,
  "metadata": {
    "colab": {
      "provenance": [],
      "collapsed_sections": [
        "KlIuRoGFCyPp",
        "EBMlxmdAEwBp",
        "RdErnECeEop6",
        "vv19z6i0Gzuj",
        "v_dso-Mn8mjs",
        "MK_HNKNsV183",
        "TNJ0wl4MFBg7",
        "2s00cTItKDii",
        "g9M5Bl0bKeT1",
        "6AEEft7GHrni",
        "-nt2f-p9IfYj",
        "aQrT-UzE-jUk",
        "h5wM24pFdBgj",
        "27XPIPyngaPk",
        "TpzKHdmiMQXD",
        "EixRrDIDQqLT",
        "_zR4Ub9zSx2a",
        "a4OZ8SLltTCy",
        "mW_KSKnspt3i",
        "qnVPoF1V0dyY",
        "5DxFjJ1k4Vhw",
        "zj5h810S4dUW",
        "sr0FyFzks8TR"
      ],
      "include_colab_link": true
    },
    "kernelspec": {
      "name": "python3",
      "display_name": "Python 3"
    },
    "language_info": {
      "name": "python"
    }
  },
  "cells": [
    {
      "cell_type": "markdown",
      "metadata": {
        "id": "view-in-github",
        "colab_type": "text"
      },
      "source": [
        "<a href=\"https://colab.research.google.com/github/danielbau26/Aplicadas_II_Colab/blob/main/Entrega_MAII.ipynb\" target=\"_parent\"><img src=\"https://colab.research.google.com/assets/colab-badge.svg\" alt=\"Open In Colab\"/></a>"
      ]
    },
    {
      "cell_type": "markdown",
      "source": [
        "#**RESPUESTAS:**\n",
        "\n"
      ],
      "metadata": {
        "id": "vuNTQNPt_5gM"
      }
    },
    {
      "cell_type": "markdown",
      "source": [
        "##**Contexto del Modelo Logístico**"
      ],
      "metadata": {
        "id": "KlIuRoGFCyPp"
      }
    },
    {
      "cell_type": "markdown",
      "source": [
        "A lo largo del documento estaremos enfocados en dos modelos y uno de ellos es el crecimiento poblacional.\n",
        "Pero, ¿qué pasaría si solo consideráramos un crecimiento poblacional sin límites?"
      ],
      "metadata": {
        "id": "twvEHZl7wqSV"
      }
    },
    {
      "cell_type": "markdown",
      "source": [
        "$$ \\frac{dx}{dt} = ax $$\n",
        "\n",
        "Donde:\n",
        "  - $x(t)$ es la población en el tiempo de $t$\n",
        "  - $a$ representa la tasa de crecimiento proporcional"
      ],
      "metadata": {
        "id": "Rdb4HM0Dzj4O"
      }
    },
    {
      "cell_type": "markdown",
      "source": [
        "Este modelo describe un crecimiento exponencial, es decir, mientras más estudiantes se matriculen, más rápido crecería la población estudiantil, sin que aparezca ningún freno. El problema es que este modelo no refleja la realidad, ya que en la práctica nada es infinito.\n",
        "\n",
        "Por esta razón debe existir algún freno al crecimiento. En el contexto institucional, dicho freno se da por la saturación de la capacidad. Con esto en mente, utilizaremos el modelo logístico para representar de manera más realista el crecimiento poblacional."
      ],
      "metadata": {
        "id": "CTGlxDJZzjrO"
      }
    },
    {
      "cell_type": "markdown",
      "source": [
        "##**Modelo Logístico:**"
      ],
      "metadata": {
        "id": "EBMlxmdAEwBp"
      }
    },
    {
      "cell_type": "markdown",
      "source": [
        "$$ \\frac{dx}{dt} = ax - bx^2 $$\n",
        "\n",
        "Donde:\n",
        "  - $x(t)$ es la población en el tiempo de $t$\n",
        "  - $a$ representa la tasa de crecimiento proporcional\n",
        "  - $b$ representa la deserción por saturación (proporcional al cuadrado de la población)"
      ],
      "metadata": {
        "id": "7iQEH_7Hzjix"
      }
    },
    {
      "cell_type": "markdown",
      "source": [
        "##**Respuestas a preguntas tecnicas del Modelo Logístico:**"
      ],
      "metadata": {
        "id": "kBZwR7FM4g_2"
      }
    },
    {
      "cell_type": "markdown",
      "source": [
        "###**1) Encuentre la solución analítica del modelo logistico**"
      ],
      "metadata": {
        "id": "RdErnECeEop6"
      }
    },
    {
      "cell_type": "markdown",
      "source": [
        "Entonces, a partir del modelo logístico necesitamos obtener la solución analítica, ya que a través de ella podremos realizar nuestras predicciones sobre el comportamiento de la población estudiantil en el tiempo."
      ],
      "metadata": {
        "id": "IFL-yf5RzjVx"
      }
    },
    {
      "cell_type": "markdown",
      "source": [
        "- Como primer paso, separamos las variables, dejando $dt$ aislado en un lado de la ecuación."
      ],
      "metadata": {
        "id": "xU4S8Ffa45_Z"
      }
    },
    {
      "cell_type": "markdown",
      "source": [
        "$$ \\frac{dx}{dt} = ax-bx^2 $$\n",
        "\n",
        "$$ dx = (ax-bx^2) \\cdot dt $$\n",
        "\n",
        "$$ \\frac{dx}{ax-bx^2} = dt $$"
      ],
      "metadata": {
        "id": "z8xp6dctvBS3"
      }
    },
    {
      "cell_type": "markdown",
      "source": [
        "- Después de haber separado las variables y dejado $dt$ aislado, el siguiente paso consiste en integrar ambos lados de la ecuación. Al hacerlo, podremos eliminar la derivada y obtener una expresión más manejable para llegar a nuestra solución."
      ],
      "metadata": {
        "id": "yy8OAJuo5owg"
      }
    },
    {
      "cell_type": "markdown",
      "source": [
        "$$ \\int \\frac{dx}{ax-bx^2} = \\int dt  $$\n",
        "\n",
        "$$ \\int \\frac{1}{ax-bx^2}\\cdot dx = \\int dt  $$\n",
        "\n",
        "$$ \\int \\frac{1}{x(a-bx)}\\cdot dx = \\int dt  $$"
      ],
      "metadata": {
        "id": "aixbUiMZ5oQI"
      }
    },
    {
      "cell_type": "markdown",
      "source": [
        "- Dado que no es posible continuar la integración de forma directa, descompondremos la fracción mediante fracciones parciales."
      ],
      "metadata": {
        "id": "V8VfiJ1q7oP1"
      }
    },
    {
      "cell_type": "markdown",
      "source": [
        "$$ \\frac{1}{x(a-bx)} $$\n",
        "\n",
        "$$ \\frac{A}{x} + \\frac{B}{a-bx} $$\n",
        "\n",
        "$$ 1 = A(a-bx) + B(x) $$\n",
        "\n",
        "$$ 1 = Aa - Abx + Bx $$\n",
        "\n",
        "$$ 1 = Aa + x(-Ab + B) $$\n",
        "\n",
        "$$ Aa = 1 \\; \\land \\; -Ab + B = 0 $$\n",
        "\n",
        "$$ A= \\frac{1}{a} \\; \\land \\; -\\frac{1}{a}b + B = 0 $$\n",
        "\n",
        "$$ A= \\frac{1}{a} \\; \\land \\; B = \\frac{b}{a} $$\n",
        "\n",
        "$$ \\downarrow $$\n",
        "\n",
        "$$ \\frac{1}{x(a-bx)} =\\frac{1}{a} \\frac{1}{x} + \\frac{b}{a} \\frac{1}{a-bx} $$"
      ],
      "metadata": {
        "id": "EtqKr7927vky"
      }
    },
    {
      "cell_type": "markdown",
      "source": [
        "- A continuación, reemplazaremos esta descomposición en la integral que habíamos planteado previamente."
      ],
      "metadata": {
        "id": "eAyvfb7A-nR2"
      }
    },
    {
      "cell_type": "markdown",
      "source": [
        "$$ \\int \\frac{1}{a} \\frac{1}{x} + \\frac{b}{a} \\frac{1}{a-bx}\\cdot dx = \\int dt  $$\n",
        "\n",
        "$$ \\int \\frac{1}{a} \\frac{1}{x} \\cdot dx + \\int \\frac{b}{a} \\frac{1}{a-bx} \\cdot dx = t + c  $$\n",
        "\n",
        "$$ \\frac{1}{a} \\int \\frac{1}{x} \\cdot dx + \\frac{b}{a} \\int \\frac{1}{a-bx} \\cdot dx = t + c $$\n",
        "\n",
        "$$ \\frac{1}{a} \\cdot ln(x) + \\frac{b}{a} \\int \\frac{1}{a-bx} \\cdot dx = t + c $$"
      ],
      "metadata": {
        "id": "kUOYUSNO-3nJ"
      }
    },
    {
      "cell_type": "markdown",
      "source": [
        "- En este punto, la segunda integral $ \\int \\frac{1}{a-bx} \\cdot dx $ no puede resolverse de forma directa, por lo tanto, aplicaremos una sustitución que nos permita integrarla correctamente."
      ],
      "metadata": {
        "id": "HnGnUzS3ABiq"
      }
    },
    {
      "cell_type": "markdown",
      "source": [
        "$$ \\int \\frac{1}{a-bx} \\cdot dx $$\n",
        "\n",
        "$$ u = a-bx $$\n",
        "\n",
        "$$ \\frac{du}{dx} = -b $$\n",
        "\n",
        "$$ du = -b \\cdot dx $$\n",
        "\n",
        "$$ -\\frac{du}{b} = dx $$\n",
        "\n",
        "$$ -\\frac{1}{b} \\cdot du = dx $$\n",
        "\n",
        "Reemplazamos:\n",
        "\n",
        "$$ \\int \\frac{1}{u} \\cdot \\frac{1}{-b} \\cdot du $$"
      ],
      "metadata": {
        "id": "vLDQghdLAMFZ"
      }
    },
    {
      "cell_type": "markdown",
      "source": [
        "- Teniendo ya definida nuestra sustitución, continuamos con el proceso de integración a partir de la expresión obtenida anteriormente."
      ],
      "metadata": {
        "id": "km9v8r35BGTs"
      }
    },
    {
      "cell_type": "markdown",
      "source": [
        "$$ \\frac{1}{a} \\cdot ln(x) + \\frac{b}{a} \\int \\frac{1}{u} \\cdot \\frac{1}{-b} \\cdot du = t + c $$\n",
        "\n",
        "$$ \\frac{1}{a} \\cdot ln(x) + \\frac{b}{a} \\cdot \\frac{1}{-b} \\int \\frac{1}{u} \\cdot du = t + c $$\n",
        "\n",
        "$$ \\frac{1}{a} \\cdot ln(x) - \\frac{1}{a} \\cdot ln(u) = t + c $$"
      ],
      "metadata": {
        "id": "5mD-TLcBBQ13"
      }
    },
    {
      "cell_type": "markdown",
      "source": [
        "- Una vez realizada la integración, no debemos olvidar aplicar nuestra sustitución.\n",
        "\n",
        "  Recordemos que la variable auxiliar era $u=a-bx$"
      ],
      "metadata": {
        "id": "OADSIqzZCZ4K"
      }
    },
    {
      "cell_type": "markdown",
      "source": [
        "$$ \\frac{1}{a} \\cdot ln(x) - \\frac{1}{a} \\cdot ln(a-bx) = t + c $$"
      ],
      "metadata": {
        "id": "_2sV3VSJCw1U"
      }
    },
    {
      "cell_type": "markdown",
      "source": [
        "- En este punto ya contamos con la solución general de la ecuación. Sin embargo, lo que realmente necesitamos es obtener la solución particular, es decir, la expresión explícita de\n",
        "$x(𝑡)$\n",
        "\n",
        "  Para lograrlo debemos despejar $x$, y de esta manera podremos realizar nuestras predicciones sobre el crecimiento poblacional a lo largo del tiempo."
      ],
      "metadata": {
        "id": "7EbSn3pbCz48"
      }
    },
    {
      "cell_type": "markdown",
      "source": [
        "$$ \\frac{1}{a} \\cdot ln(x) - \\frac{1}{a} \\cdot ln(a-bx) = t + c $$\n",
        "\n",
        "$$ \\frac{1}{a} \\cdot (ln(x) - ln(a-bx)) = t + c $$\n",
        "\n",
        "$$ \\frac{1}{a} \\cdot (ln(\\frac{x}{a-bx})) = t + c $$\n",
        "\n",
        "$$ ln(\\frac{x}{a-bx}) = a \\cdot (t + c) $$\n",
        "\n",
        "$$ e^{ln(\\frac{x}{a-bx})} = e^{a \\cdot (t + c)} $$\n",
        "\n",
        "$$ \\frac{x}{a-bx} = e^{at + ac} $$\n",
        "\n",
        "$$ \\frac{x}{a-bx} = e^{at} \\cdot e^{ac} $$"
      ],
      "metadata": {
        "id": "sUyspO75Ekq9"
      }
    },
    {
      "cell_type": "markdown",
      "source": [
        "- Para simplificar la notación, la expresión $e^{ac}$ se representará mediante una constante $H$."
      ],
      "metadata": {
        "id": "W0WfuWEZw9D0"
      }
    },
    {
      "cell_type": "markdown",
      "source": [
        "$$ \\frac{x}{a-bx} = He^{at}  $$\n",
        "\n",
        "$$ x = He^{at}(a-bx) $$\n",
        "\n",
        "$$ x = He^{at}a - He^{at}bx $$\n",
        "\n",
        "$$ x + He^{at}bx = He^{at}a $$\n",
        "\n",
        "$$ x(1 + He^{at}b) = He^{at}a $$\n",
        "\n",
        "$$ x = \\frac{He^{at}a}{1 + He^{at}b} $$"
      ],
      "metadata": {
        "id": "TBb5A-hxw8m2"
      }
    },
    {
      "cell_type": "markdown",
      "source": [
        "###**2) ¿Qué representa el equilibrio poblacional en este modelo?**"
      ],
      "metadata": {
        "id": "vv19z6i0Gzuj"
      }
    },
    {
      "cell_type": "markdown",
      "source": [
        "- El equilibrio poblacional en el modelo logístico corresponde al valor estable al que converge el modelo logístico en el largo plazo, es decir, cuando $ \\frac{dx}{dt} = 0$\n",
        "\n",
        "- Este comportamiento se explica porque en ese punto no existen variaciones en la tasa de crecimiento poblacional\n",
        "\n",
        "-  **Por lo tanto, el equilibrio poblacional representa el valor máximo sostenible al que puede llegar la población.**"
      ],
      "metadata": {
        "id": "n8IAoAsLG_zO"
      }
    },
    {
      "cell_type": "markdown",
      "source": [
        "*A continuación, se muestra gráficamente que el equilibrio corresponde al valor estable de la población.*"
      ],
      "metadata": {
        "id": "E5sXp89Wg5jl"
      }
    },
    {
      "cell_type": "code",
      "source": [
        "from IPython.display import IFrame\n",
        "\n",
        "IFrame(\"https://www.geogebra.org/classic/svwnxg5k\", width=800, height=600)"
      ],
      "metadata": {
        "colab": {
          "base_uri": "https://localhost:8080/",
          "height": 621
        },
        "id": "UV7GATGAg4US",
        "outputId": "0835bfde-0dbe-48d7-9d73-e5ff7b2a749c"
      },
      "execution_count": null,
      "outputs": [
        {
          "output_type": "execute_result",
          "data": {
            "text/plain": [
              "<IPython.lib.display.IFrame at 0x797f5592e4e0>"
            ],
            "text/html": [
              "\n",
              "        <iframe\n",
              "            width=\"800\"\n",
              "            height=\"600\"\n",
              "            src=\"https://www.geogebra.org/classic/svwnxg5k\"\n",
              "            frameborder=\"0\"\n",
              "            allowfullscreen\n",
              "            \n",
              "        ></iframe>\n",
              "        "
            ]
          },
          "metadata": {},
          "execution_count": 1
        }
      ]
    },
    {
      "cell_type": "markdown",
      "source": [
        "###**3) ¿Se alcanza un valor estable? ¿En qué condiciones?**"
      ],
      "metadata": {
        "id": "v_dso-Mn8mjs"
      }
    },
    {
      "cell_type": "markdown",
      "source": [
        "Para lograr que nuestro modelo logístico alcance un valor estable, primero necesitamos aplicar la condición de equilibrio, es decir, cuando la tasa de cambio de la población se anula:"
      ],
      "metadata": {
        "id": "rwd9yQc-Fkel"
      }
    },
    {
      "cell_type": "markdown",
      "source": [
        "$$ \\frac{dx}{dt} = 0 $$"
      ],
      "metadata": {
        "id": "_xVxc_MUGKpC"
      }
    },
    {
      "cell_type": "markdown",
      "source": [
        "Una vez identificamos que debemos igualar la derivada a cero para hallar los puntos de equilibrio, procedemos a desarrollar la ecuación."
      ],
      "metadata": {
        "id": "mC3D-AyeGNgW"
      }
    },
    {
      "cell_type": "markdown",
      "source": [
        "$$ \\frac{dx}{dt} = ax-bx^2 $$\n",
        "\n",
        "$$ \\frac{dx}{dt} = x(a-bx) $$\n",
        "\n",
        "$$ 0 = x(a-bx) $$\n",
        "\n",
        "$$ x=0 \\; \\land \\; x=\\frac{a}{b} $$"
      ],
      "metadata": {
        "id": "uxmNHeit8rl5"
      }
    },
    {
      "cell_type": "markdown",
      "source": [
        "Después de haber resuelto la ecuación, obtenemos dos posibles valores de equilibrio:\n",
        "\n",
        "$$ x=0 \\; \\land \\; x=\\frac{a}{b} $$\n",
        "\n",
        "Ahora surge la pregunta: ¿cuál de ellos es el equilibrio real que describe la situación?"
      ],
      "metadata": {
        "id": "ZEwnDaGNDIp_"
      }
    },
    {
      "cell_type": "markdown",
      "source": [
        "Para responderla, debemos analizar la estabilidad de cada punto evaluando la derivada de nuestro modelo logístico:"
      ],
      "metadata": {
        "id": "9E2JQfLuPDhn"
      }
    },
    {
      "cell_type": "markdown",
      "source": [
        "$$ \\frac{dx}{dt} = x(a-bx) $$\n",
        "\n",
        "$$ \\frac{d^2x}{d^2t} = (a-bx) + x(-b) $$"
      ],
      "metadata": {
        "id": "4o00YocbPrFj"
      }
    },
    {
      "cell_type": "markdown",
      "source": [
        "Ya teniendo nuestra segunda derivada lo que tendremos que hacer a continuación es validar nuestros dos valores $ x=0 \\; \\land \\; x=\\frac{a}{b} $ en nuestra segunda derivada."
      ],
      "metadata": {
        "id": "WXLfg6MUP983"
      }
    },
    {
      "cell_type": "markdown",
      "source": [
        "$$ \\frac{d^2x}{d^2t} = (a-bx) + x(-b) $$\n",
        "\n",
        "Evaluamos $ x=0 $\n",
        "\n",
        "$$ = (a-b(0)) + (0)(-b) $$\n",
        "\n",
        "$$ = a \\longrightarrow a>0$$\n",
        "\n",
        "**Un valor positivo indica que el equilibrio es inestable, ya que pequeñas perturbaciones hacen crecer la población y alejarse de este punto.**\n",
        "\n",
        "Ahora, evaluamos $ x= \\frac{a}{b} $\n",
        "\n",
        "$$ = (a-b(\\frac{a}{b})) + (\\frac{a}{b})(-b) $$\n",
        "\n",
        "$$ = -a \\longrightarrow -a<0 $$\n",
        "\n",
        "**Un valor negativo indica que el equilibrio es estable, ya que perturbaciones cercanas tienden a regresar a este punto.**"
      ],
      "metadata": {
        "id": "xB1Nbh2cS4ka"
      }
    },
    {
      "cell_type": "markdown",
      "source": [
        "Por lo tanto, aunque existan dos soluciones, el equilibro significativo de nuestro modelo es:\n",
        "\n",
        "$$ x=\\frac{a}{b} $$"
      ],
      "metadata": {
        "id": "1JeMB3XZHT4N"
      }
    },
    {
      "cell_type": "markdown",
      "source": [
        "A continuación, podemos validar nuestro valor de equilibrio $\\frac{a}{b}$ visualizando la siguiente gráfica:"
      ],
      "metadata": {
        "id": "C1gKDjn8gqkz"
      }
    },
    {
      "cell_type": "markdown",
      "source": [
        "Teniendo en cuenta que, cerca del punto de equilibrio $(x = \\tfrac{a}{b})$, las flechas deben ser **atractoras**, mientras que en el punto inestable $(x = 0)$ deben ser **repulsoras**."
      ],
      "metadata": {
        "id": "B-GArts0IVmw"
      }
    },
    {
      "cell_type": "code",
      "source": [
        "from IPython.display import IFrame\n",
        "\n",
        "IFrame(\"https://www.geogebra.org/classic/svwnxg5k\", width=800, height=600)"
      ],
      "metadata": {
        "id": "ffrYOrNfIV34",
        "colab": {
          "base_uri": "https://localhost:8080/",
          "height": 621
        },
        "outputId": "ce8768f3-538e-4288-92b1-539799284849"
      },
      "execution_count": null,
      "outputs": [
        {
          "output_type": "execute_result",
          "data": {
            "text/plain": [
              "<IPython.lib.display.IFrame at 0x797f5592d2b0>"
            ],
            "text/html": [
              "\n",
              "        <iframe\n",
              "            width=\"800\"\n",
              "            height=\"600\"\n",
              "            src=\"https://www.geogebra.org/classic/svwnxg5k\"\n",
              "            frameborder=\"0\"\n",
              "            allowfullscreen\n",
              "            \n",
              "        ></iframe>\n",
              "        "
            ]
          },
          "metadata": {},
          "execution_count": 2
        }
      ]
    },
    {
      "cell_type": "markdown",
      "source": [
        "###**4) ¿Cómo se comporta la solución cuando $ t \\to ∞ $?**"
      ],
      "metadata": {
        "id": "MK_HNKNsV183"
      }
    },
    {
      "cell_type": "markdown",
      "source": [
        "Para poder conocer como se comporta la solución analitica cuando $ t \\to ∞ $\n",
        "- Recordemos que la solución analítica del modelo logístico es la siguiente:\n",
        "$$ x = \\frac{He^{at}a}{1 + He^{at}b} $$"
      ],
      "metadata": {
        "id": "CgQaYfx5WNn4"
      }
    },
    {
      "cell_type": "markdown",
      "source": [
        "Notamos que tanto el numerador como el denominador contienen términos muy similares. Por esta razón, podemos factorizar la expresión de manera conveniente, lo que nos permitirá simplificarla progresivamente hasta llegar a un punto en el que aplicaremos el límite cuando $ t \\to ∞ $"
      ],
      "metadata": {
        "id": "Kll4Fx5-Ajzw"
      }
    },
    {
      "cell_type": "markdown",
      "source": [
        "$$ x(t) = \\frac{He^{at}a}{1 + He^{at}b} $$\n",
        "\n",
        "$$ x(t) = \\frac{1}{\\frac{1 + He^{at}b}{He^{at}a}} $$\n",
        "\n",
        "$$ x(t) = \\frac{1}{\\frac{1}{He^{at}a} + \\frac{He^{at}b}{He^{at}a}} $$\n",
        "\n",
        "$$ x(t) = \\frac{1}{\\frac{1}{He^{at}a} + \\frac{Hb}{Ha} \\cdot \\frac{e^{at}}{e^{at}}} $$\n",
        "\n",
        "$$ x(t) = \\frac{1}{\\frac{1}{He^{at}a} + \\frac{b}{a}} $$"
      ],
      "metadata": {
        "id": "RT7dDsFV8XAo"
      }
    },
    {
      "cell_type": "markdown",
      "source": [
        "En este punto observamos que por definición de límite, el término $\\frac{1}{He^{at}a} $ tiende a cero cuando $t \\to ∞$. Esto ocurre porque el denominador $ He^{at}a $ crece indefinidamente, haciendo que la fracción se vuelva cada vez más pequeña hasta convertirse en 0."
      ],
      "metadata": {
        "id": "pVLKYaPFAcxh"
      }
    },
    {
      "cell_type": "markdown",
      "source": [
        "$$ \\lim_{x \\to \\infty} = \\frac{1}{0 + \\frac{b}{a}} $$"
      ],
      "metadata": {
        "id": "LAePgGfiAZJQ"
      }
    },
    {
      "cell_type": "markdown",
      "source": [
        "Ya habiendo entendido esa parte, continuamos con nuestra simplificación reduciendo la expresión a:"
      ],
      "metadata": {
        "id": "KCL6GK4RDdR-"
      }
    },
    {
      "cell_type": "markdown",
      "source": [
        "$$ x(t) = \\frac{1}{0 + \\frac{b}{a}} $$\n",
        "\n",
        "$$ x(t) = \\frac{1}{\\frac{b}{a}} $$\n",
        "\n",
        "$$ x(t) = \\frac{a}{b} $$"
      ],
      "metadata": {
        "id": "M-36Ce6rDc_H"
      }
    },
    {
      "cell_type": "markdown",
      "source": [
        "En este punto comprendemos que la solución se comporta de manera que $ x(t) = \\frac{a}{b} $ correspondiente al límite cuando $ t \\to ∞ $."
      ],
      "metadata": {
        "id": "bIiYPnZN8UNd"
      }
    },
    {
      "cell_type": "markdown",
      "source": [
        "Gráficamente, lo podemos entender de manera que, cuando $t \\to \\infty$, la población se aproxima cada vez más a su estado de estabilidad."
      ],
      "metadata": {
        "id": "7wm9T-J1hNYV"
      }
    },
    {
      "cell_type": "code",
      "source": [
        "from IPython.display import IFrame\n",
        "\n",
        "IFrame(\"https://www.geogebra.org/classic/x8juxasp\", width=800, height=600)"
      ],
      "metadata": {
        "colab": {
          "base_uri": "https://localhost:8080/",
          "height": 622
        },
        "id": "57CNu-Q6hXRq",
        "outputId": "ee419420-4495-4738-be86-4c20916fef65"
      },
      "execution_count": null,
      "outputs": [
        {
          "output_type": "execute_result",
          "data": {
            "text/plain": [
              "<IPython.lib.display.IFrame at 0x7f7040cb7140>"
            ],
            "text/html": [
              "\n",
              "        <iframe\n",
              "            width=\"800\"\n",
              "            height=\"600\"\n",
              "            src=\"https://www.geogebra.org/classic/x8juxasp\"\n",
              "            frameborder=\"0\"\n",
              "            allowfullscreen\n",
              "            \n",
              "        ></iframe>\n",
              "        "
            ]
          },
          "metadata": {},
          "execution_count": 20
        }
      ]
    },
    {
      "cell_type": "markdown",
      "source": [
        "###**5) ¿La solución simbólica coincide con el comportamiento gráfico?**"
      ],
      "metadata": {
        "id": "TNJ0wl4MFBg7"
      }
    },
    {
      "cell_type": "markdown",
      "source": [
        "Para verificar si la solución simbólica coincide con el modelo, es necesario compararla con la aproximación obtenida mediante el método de Euler."
      ],
      "metadata": {
        "id": "-ZhCbzZZCPDj"
      }
    },
    {
      "cell_type": "code",
      "source": [
        "import numpy as np\n",
        "import matplotlib.pyplot as plt\n",
        "\n",
        "# Parámetros del modelo logístico\n",
        "a = 0.25\n",
        "b = 1/120000\n",
        "x0 = 1             # población inicial\n",
        "h = 0.1\n",
        "t_max = 100\n",
        "n = int(t_max/h)\n",
        "t = np.linspace(0, t_max, n+1)\n",
        "\n",
        "# Método de Euler\n",
        "x_euler = np.zeros(n+1)\n",
        "x_euler[0] = x0\n",
        "for i in range(n):\n",
        "    dxdt = a*x_euler[i] - b*x_euler[i]**2\n",
        "    x_euler[i+1] = x_euler[i] + h*dxdt\n",
        "\n",
        "# Solución analítica\n",
        "K = a/b\n",
        "A = (K - x0)/x0\n",
        "x_analytic = K / (1 + A*np.exp(-a*t))\n",
        "\n",
        "# Gráfica\n",
        "plt.figure(figsize=(8,5))\n",
        "plt.plot(t, x_analytic, color=\"blue\", linewidth=2, label=\"Solución analítica\")\n",
        "plt.plot(t, x_euler, \"--\", color=\"orange\", linewidth=2, label=\"Simulación con Euler\")\n",
        "plt.axhline(K, color=\"red\", linestyle=\"--\", linewidth=1.5, label=f\"Equilibrio K={K:.0f}\")\n",
        "plt.xlabel(\"Tiempo (años)\")\n",
        "plt.ylabel(\"Población de estudiantes\")\n",
        "plt.title(\"Modelo Euler vs la Solución Analítica\")\n",
        "plt.legend()\n",
        "plt.grid()\n",
        "plt.show()\n"
      ],
      "metadata": {
        "id": "HBBm2bsxFODm",
        "outputId": "cee094a5-63a2-4673-f28d-c23d3e564ecb",
        "colab": {
          "base_uri": "https://localhost:8080/",
          "height": 487
        }
      },
      "execution_count": null,
      "outputs": [
        {
          "output_type": "display_data",
          "data": {
            "text/plain": [
              "<Figure size 800x500 with 1 Axes>"
            ],
            "image/png": "[encoded data removed]"
          },
          "metadata": {}
        }
      ]
    },
    {
      "cell_type": "markdown",
      "source": [
        "En conclusión al comparar la representación gráfica obtenida mediante la solución simbólica con la aproximación numérica por el método de Euler, se observa que ambas coinciden de manera consistente. Esto confirma que el modelo analítico describe correctamente la dinámica poblacional."
      ],
      "metadata": {
        "id": "LSrMMhgjFj5z"
      }
    },
    {
      "cell_type": "markdown",
      "source": [
        "###**6) ¿Cómo afecta el valor de $a$ o $b$ al crecimiento o decrecimiento de la población?**"
      ],
      "metadata": {
        "id": "2s00cTItKDii"
      }
    },
    {
      "cell_type": "markdown",
      "source": [
        "La variable $a$ representa la tasa de crecimiento proporcional determinando qué tan rápido crece la población cuando está lejos de la saturación (es decir, cuando $x$ es pequeña). Un valor mayor de $a$ a hace que la población aumente más rápido afectando directamente al crecimiento de la población.\n",
        "\n",
        "La variable $b$ representa la deserción por saturación regulando la fricción que limita el crecimiento cuando la población aumenta. A medida que $x$ crece, $b$ se vuelve más grande, frenando el crecimiento. Si $b>0$, eventualmente habrá un equilibrio afectando principalmente al decrecimiento de la población."
      ],
      "metadata": {
        "id": "CHmCke7vKVv6"
      }
    },
    {
      "cell_type": "markdown",
      "source": [
        "A continuación, se puede comprobar cómo afectan los valores de $a$ y $b$ al crecimiento o decrecimiento de la población."
      ],
      "metadata": {
        "id": "WMfwOSCnmGSG"
      }
    },
    {
      "cell_type": "code",
      "source": [
        "from IPython.display import IFrame\n",
        "\n",
        "IFrame(\"https://www.geogebra.org/classic/x8juxasp\", width=800, height=600)"
      ],
      "metadata": {
        "colab": {
          "base_uri": "https://localhost:8080/",
          "height": 622
        },
        "id": "brMCZVAvmUVC",
        "outputId": "f278ccb5-10de-4a02-c9aa-c48837cff426"
      },
      "execution_count": null,
      "outputs": [
        {
          "output_type": "execute_result",
          "data": {
            "text/plain": [
              "<IPython.lib.display.IFrame at 0x7f7040d18110>"
            ],
            "text/html": [
              "\n",
              "        <iframe\n",
              "            width=\"800\"\n",
              "            height=\"600\"\n",
              "            src=\"https://www.geogebra.org/classic/x8juxasp\"\n",
              "            frameborder=\"0\"\n",
              "            allowfullscreen\n",
              "            \n",
              "        ></iframe>\n",
              "        "
            ]
          },
          "metadata": {},
          "execution_count": 22
        }
      ]
    },
    {
      "cell_type": "markdown",
      "source": [
        "###**7) ¿Qué significa el término $bx^2 $ en la dinámica poblacional? ¿Es siempre negativo?**"
      ],
      "metadata": {
        "id": "g9M5Bl0bKeT1"
      }
    },
    {
      "cell_type": "markdown",
      "source": [
        "El término $bx^2$ representa la deserción (o mortalidad) por saturación. En otras palabras, funciona como un mecanismo de frenado que limita el crecimiento de la población\n",
        "\n",
        "En la práctica, este término siempre es negativo en la ecuación ($-bx^2$), lo que refleja su papel de reducir la tasa de crecimiento poblacional. Este frenado se vuelve más intenso a medida que la población ($x$) aumenta, impidiendo que el crecimiento sea infinito y llevando a la población hacia un equilibrio estable."
      ],
      "metadata": {
        "id": "KnWQfikWKks5"
      }
    },
    {
      "cell_type": "markdown",
      "source": [
        "##**Modelo Lineal:**"
      ],
      "metadata": {
        "id": "6AEEft7GHrni"
      }
    },
    {
      "cell_type": "markdown",
      "source": [
        "$$ \\frac{dx}{dt} = r-hx $$\n",
        "\n",
        "Donde:\n",
        "  - $r$ es el ingreso constante de nuevos estudiantes por año\n",
        "  - $h$ es la tasa de deserción proporcional\n",
        "  - $x(t)$ es la población universitaria en el tiempo $t$"
      ],
      "metadata": {
        "id": "JAUi92uxHwmf"
      }
    },
    {
      "cell_type": "markdown",
      "source": [
        "##**Respuestas a preguntas tecnicas del Modelo Lineal:**"
      ],
      "metadata": {
        "id": "3gIUPIvTIZkW"
      }
    },
    {
      "cell_type": "markdown",
      "source": [
        "###**1) Encuentre la solución analítica del modelo lineal**"
      ],
      "metadata": {
        "id": "-nt2f-p9IfYj"
      }
    },
    {
      "cell_type": "markdown",
      "source": [
        "A partir del modelo lineal necesitamos obtener la solución analítica, ya que a través de ella podremos realizar nuestras predicciones sobre el comportamiento de la población estudiantil en el tiempo."
      ],
      "metadata": {
        "id": "WULoZvb9JBnY"
      }
    },
    {
      "cell_type": "markdown",
      "source": [
        "- Como primer paso, separamos las variables, dejando $dt$ aislado en un lado de la ecuación."
      ],
      "metadata": {
        "id": "dUpzoJtdJEA2"
      }
    },
    {
      "cell_type": "markdown",
      "source": [
        "$$ \\frac{dx}{dt} = r-hx $$\n",
        "\n",
        "$$ dx = (r-hx) \\cdot dt $$\n",
        "\n",
        "$$ \\frac{dx}{r-hx} = dt $$"
      ],
      "metadata": {
        "id": "SFBqH-iyJJu0"
      }
    },
    {
      "cell_type": "markdown",
      "source": [
        "- Después de haber separado las variables y dejado $dt$ aislado, el siguiente paso consiste en integrar ambos lados de la ecuación. Al hacerlo, podremos eliminar la derivada y obtener una expresión más manejable para llegar a nuestra solución."
      ],
      "metadata": {
        "id": "BGiUNIwNJsfT"
      }
    },
    {
      "cell_type": "markdown",
      "source": [
        "$$ \\int \\frac{dx}{r-hx} = \\int dt $$\n",
        "\n",
        "$$ \\int \\frac{1}{r-hx} \\cdot dx = \\int dt $$"
      ],
      "metadata": {
        "id": "_S1AB8FtJvE9"
      }
    },
    {
      "cell_type": "markdown",
      "source": [
        "- Llegados a este punto, la integral no puede resolverse de manera directa. Por esta razón, aplicaremos el método de sustitución, lo cual nos permitirá simplificar la expresión y continuar con el proceso de integración."
      ],
      "metadata": {
        "id": "33iHpuNeKCk9"
      }
    },
    {
      "cell_type": "markdown",
      "source": [
        "$$ u = r-hx $$\n",
        "\n",
        "$$ \\frac{du}{dx} = -h $$\n",
        "\n",
        "$$ du = -h \\cdot dx $$\n",
        "\n",
        "$$ \\frac{du}{-h} = dx $$\n",
        "\n",
        "$$ \\frac{1}{-h} \\cdot du = dx $$\n",
        "\n",
        "Reemplazamos\n",
        "\n",
        "$$ \\int \\frac{1}{u} \\cdot \\frac{1}{-h} \\cdot du $$"
      ],
      "metadata": {
        "id": "Y_4fSUsKKPXY"
      }
    },
    {
      "cell_type": "markdown",
      "source": [
        "- Teniendo ya definida nuestra sustitución, continuamos con el proceso de integración a partir de la expresión obtenida anteriormente."
      ],
      "metadata": {
        "id": "02QZIHdEK30X"
      }
    },
    {
      "cell_type": "markdown",
      "source": [
        "$$ \\int \\frac{1}{u} \\cdot \\frac{1}{-h} \\cdot du = \\int dt $$\n",
        "\n",
        "$$ \\frac{1}{-h} \\int \\frac{1}{u} \\cdot du = t + c $$\n",
        "\n",
        "$$ \\frac{1}{-h} \\cdot ln(u) = t+c $$"
      ],
      "metadata": {
        "id": "2729o19QLPLU"
      }
    },
    {
      "cell_type": "markdown",
      "source": [
        "- Una vez realizada la integración, no debemos olvidar aplicar nuestra sustitución.\n",
        "\n",
        "  Recordemos que la variable auxiliar era $u=r-hx$"
      ],
      "metadata": {
        "id": "cPtQohouLyKk"
      }
    },
    {
      "cell_type": "markdown",
      "source": [
        "$$ \\frac{1}{-h} \\cdot ln(r-hx) = t+c $$"
      ],
      "metadata": {
        "id": "SRM-6hjQL-Ys"
      }
    },
    {
      "cell_type": "markdown",
      "source": [
        "- En este punto ya contamos con la solución general de la ecuación. Sin embargo, lo que realmente necesitamos es obtener la solución analítica, es decir, la expresión explícita de\n",
        "$x(𝑡)$\n",
        "\n",
        "  Para lograrlo debemos despejar $x$, y de esta manera podremos realizar nuestras predicciones sobre el crecimiento poblacional a lo largo del tiempo."
      ],
      "metadata": {
        "id": "RcecY5ZsPh8d"
      }
    },
    {
      "cell_type": "markdown",
      "source": [
        "$$ ln(r-hx) = -h(t+c)  $$\n",
        "\n",
        "$$ e^{ln(r-hx)} = e^{-h(t+c)}  $$\n",
        "\n",
        "$$ r-hx = e^{-ht + hc} $$\n",
        "\n",
        "$$ r-hx = e^{-ht} \\cdot e^{-hc} $$\n",
        "\n",
        "- Para simplificar la notación, la expresión $e^{-hc}$ se representará mediante una constante $A$.\n",
        "\n",
        "$$ r-hx = Ae^{-ht} $$\n",
        "\n",
        "$$ hx-r = -Ae^{-ht} $$\n",
        "\n",
        "$$ hx = -Ae^{-ht} + r $$\n",
        "\n",
        "$$ x = \\frac{-Ae^{-ht} + r}{h} $$"
      ],
      "metadata": {
        "id": "6-VjtkCZPhgH"
      }
    },
    {
      "cell_type": "markdown",
      "source": [
        "###**2) ¿Cuál es el valor de equilibrio de la población?**"
      ],
      "metadata": {
        "id": "aQrT-UzE-jUk"
      }
    },
    {
      "cell_type": "markdown",
      "source": [
        "Para poder hallar el valor de equilibrio de la poblacion usando el modelo lineal, lo primero que haremos sera igualar el modelo a 0.\n"
      ],
      "metadata": {
        "id": "2Ifx-428-puy"
      }
    },
    {
      "cell_type": "markdown",
      "source": [
        "- donde:\n",
        "\n",
        "$$ \\frac{dx}{dt} = r-hx $$"
      ],
      "metadata": {
        "id": "38euBTW0jpGB"
      }
    },
    {
      "cell_type": "markdown",
      "source": [
        "- Reemplazamos $\\frac{dx}{dt}$ = 0:"
      ],
      "metadata": {
        "id": "BMwrik9RjtkH"
      }
    },
    {
      "cell_type": "markdown",
      "source": [
        "$$ 0 = r-hx $$\n",
        "\n",
        "$$ -r = -hx $$\n",
        "\n",
        "$$ \\frac{-r}{-h} = x $$\n",
        "\n",
        "$$ x = \\frac{r}{h} $$"
      ],
      "metadata": {
        "id": "Zzrzw5_xj8MD"
      }
    },
    {
      "cell_type": "markdown",
      "source": [
        "Para verificar este valor de equilibrio, graficaremos las isoclinas de tal manera que confirmen nuestra solución. Recuerda que, cerca de nuestro valor estable, las flechas deben ser **atractoras**."
      ],
      "metadata": {
        "id": "eN0lJ1GZkAgk"
      }
    },
    {
      "cell_type": "code",
      "source": [
        "from IPython.display import IFrame\n",
        "\n",
        "IFrame(\"https://www.geogebra.org/classic/hp7tdxty\", width=800, height=600)"
      ],
      "metadata": {
        "colab": {
          "base_uri": "https://localhost:8080/",
          "height": 621
        },
        "id": "tv0oaUWUkIWd",
        "outputId": "0c9dd045-58cd-408b-a930-642c1099cef1"
      },
      "execution_count": null,
      "outputs": [
        {
          "output_type": "execute_result",
          "data": {
            "text/plain": [
              "<IPython.lib.display.IFrame at 0x797f5592fd70>"
            ],
            "text/html": [
              "\n",
              "        <iframe\n",
              "            width=\"800\"\n",
              "            height=\"600\"\n",
              "            src=\"https://www.geogebra.org/classic/hp7tdxty\"\n",
              "            frameborder=\"0\"\n",
              "            allowfullscreen\n",
              "            \n",
              "        ></iframe>\n",
              "        "
            ]
          },
          "metadata": {},
          "execution_count": 4
        }
      ]
    },
    {
      "cell_type": "markdown",
      "source": [
        "###**3) ¿Como varia la solucion con diferentes valores iniciales $x(0)$?**"
      ],
      "metadata": {
        "id": "h5wM24pFdBgj"
      }
    },
    {
      "cell_type": "markdown",
      "source": [
        "Para poder observar como varia la solucion modelo logistico vamos a evaluarla en $x(0)$"
      ],
      "metadata": {
        "id": "cvpXwQLcdmZI"
      }
    },
    {
      "cell_type": "markdown",
      "source": [
        "- Solución del modelo lineal:\n",
        "\n",
        "$$ x = \\frac{-Ae^{-ht} + r}{h} $$"
      ],
      "metadata": {
        "id": "y-LivTQsm8Ts"
      }
    },
    {
      "cell_type": "markdown",
      "source": [
        "- Evaluamos $t=0$:\n",
        "\n",
        "$$ x(0) = \\frac{-Ae^{-h0} + r}{h} $$\n",
        "\n",
        "$$ x(0)=\\frac{-A*1+r}{h}$$\n",
        "\n",
        "$$x(0)=\\frac{r-A}{h}$$\n",
        "\n",
        "$$hx(0)=r-A$$\n",
        "\n",
        "$$-A = r+hx(0)$$"
      ],
      "metadata": {
        "id": "pd4LCagim9qZ"
      }
    },
    {
      "cell_type": "markdown",
      "source": [
        "- Multiplicaremos por -1 en ambos lados para obtener $A$ positiva:\n",
        "\n",
        "$$A=r-hx(0)$$"
      ],
      "metadata": {
        "id": "VV2hn_ZwqKKq"
      }
    },
    {
      "cell_type": "markdown",
      "source": [
        "Ahora que tenemos el valor positivo de $A$, lo reemplazamos en la solución del modelo lineal:"
      ],
      "metadata": {
        "id": "RpUtx86CqPH5"
      }
    },
    {
      "cell_type": "markdown",
      "source": [
        "$$ x = \\frac{-(r-hx(0)) \\cdot e^{-ht} + r}{h} $$\n",
        "\n",
        "$$ x = \\frac{(-r+hx(0)) \\cdot e^{-ht} + r}{h} $$\n",
        "\n",
        "$$ x = \\frac{-re^{-ht}+hx(0)e^{-ht}+r}{h} $$\n",
        "\n",
        "$$x(t)=\\frac{-r e^{-ht}}{h} + \\frac{x(0) e^{-ht}}{h} + \\frac{r}{h}$$"
      ],
      "metadata": {
        "id": "oTbUXFNPqQ1j"
      }
    },
    {
      "cell_type": "markdown",
      "source": [
        "Entonces, la expresión final nos queda:\n",
        "\n",
        "$$x(t)=\\frac{-r e^{-ht}}{h} + x(0) e^{-ht} + \\frac{r}{h}$$"
      ],
      "metadata": {
        "id": "fTcChyCgqkx2"
      }
    },
    {
      "cell_type": "markdown",
      "source": [
        "- Reordenamos y obtenemos:\n",
        "\n",
        "$$x(t)=\\frac{r}{h} + \\Big(x(0) e^{-ht} - \\frac{r e^{-ht}}{h}\\Big)$$"
      ],
      "metadata": {
        "id": "MNFpxwGsqmoT"
      }
    },
    {
      "cell_type": "markdown",
      "source": [
        "- Por último, realizamos factor común de $e^{-ht}$, obteniendo así nuestro resultado:\n",
        "\n",
        "$$x(t)=\\frac{r}{h} + e^{-ht}\\Big(x(0) - \\frac{r}{h}\\Big)$$"
      ],
      "metadata": {
        "id": "AsM70T7Dqsdk"
      }
    },
    {
      "cell_type": "code",
      "source": [
        "#Codigo geogebra"
      ],
      "metadata": {
        "id": "0PhZB8jzgYiP"
      },
      "execution_count": null,
      "outputs": []
    },
    {
      "cell_type": "markdown",
      "source": [
        "###**4) ¿Cómo se comporta la población en el tiempo? ¿Crece, decrece o se estabiliza?**"
      ],
      "metadata": {
        "id": "27XPIPyngaPk"
      }
    },
    {
      "cell_type": "markdown",
      "source": [
        "Como ya tenemos la solucion del modelo lineal podemos ayudarnos de esta\n",
        "\n",
        "$$x(t)=\\frac{r}{h} + e^{-ht}\\Big(x(0) - \\frac{r}{h}\\Big)$$\n",
        "\n"
      ],
      "metadata": {
        "id": "a8bLYOCbi2lU"
      }
    },
    {
      "cell_type": "markdown",
      "source": [
        "Donde $\\frac{r}{h}$ es el equilibrio fijo y $e^{-ht}\\Big(x(0) - \\frac{r}{h}\\Big)$ es lo que se conoce como **correccion transitoria**, que depende de su condicion inicial y se va a 0 cuando $t$ tiende a $∞$"
      ],
      "metadata": {
        "id": "HChNbCDZnbxc"
      }
    },
    {
      "cell_type": "markdown",
      "source": [
        "Tambien tenemos en cuenta que:\n",
        "\n",
        "$$\\lim_{t \\to \\infty} e^{-ht} = 0$$ $$h> 0$$"
      ],
      "metadata": {
        "id": "5ovjqWsDFBl1"
      }
    },
    {
      "cell_type": "markdown",
      "source": [
        "Esto significa que con el paso del tiempo la unica parte que nos queda en la solucion es:\n",
        "- $x(∞) = \\frac{r}{h}$"
      ],
      "metadata": {
        "id": "y5s_vY1_n0CT"
      }
    },
    {
      "cell_type": "markdown",
      "source": [
        "Osea que sin importar que pase, todo esta ligado a que eventualmente llegue al equilibrio."
      ],
      "metadata": {
        "id": "CM9wv8n0nuQf"
      }
    },
    {
      "cell_type": "markdown",
      "source": [
        "Ahora cuando nos fijamos en $(x(0) - \\frac{r}{h})e^{-ht}$, sabemos que la expresion de $e^{-ht}$ siempre sera positiva (ya que ninguna exponencial puede ser negativa)"
      ],
      "metadata": {
        "id": "5zt49drJnv7s"
      }
    },
    {
      "cell_type": "markdown",
      "source": [
        "Entonces solo nos quedamos con el valor de:\n",
        "\n",
        "$$x(0) - \\frac{r}{h}$$"
      ],
      "metadata": {
        "id": "EKyIkThfnoz1"
      }
    },
    {
      "cell_type": "markdown",
      "source": [
        "Realizando un caso por caso tenemos entonces que:\n",
        "\n",
        "- **Caso 1**: Cuando $x(0) - \\frac{r}{h} < 0$\n",
        "  - Eso significa que es negativo y por lo tanto:\n",
        "  - $x(t)=\\frac{r}{h} +$(Algo negativo que se va haciendo mas pequeño con el paso del tiempo)\n",
        "  - Es decir, $x(t)$ empieza por debajo de $\\frac{r}{h}$ y va subiendo hacia $\\frac{r}{h}$\n",
        "\n",
        "- **Caso 2**: Cuando $x(0) - \\frac{r}{h} > 0$\n",
        "  - Eso significa que es positivo y por lo tanto:\n",
        "  - $x(t)=\\frac{r}{h} +$(Algo positivo que se va haciendo mas pequeño con el paso del tiempo)\n",
        "  - Es decir, $x(t)$ empieza por arriba de $\\frac{r}{h}$ y va bajando hacia $\\frac{r}{h}$\n",
        "\n",
        "- **Caso 3**:  Cuando $x(0) = \\frac{r}{h} $\n",
        "  - Entonces $x(0) - \\frac{r}{h} = 0$ desaparece\n",
        "  - Es decir que la poblacion queda exactamente en el equilibrio"
      ],
      "metadata": {
        "id": "lwnE4j6wnwQf"
      }
    },
    {
      "cell_type": "markdown",
      "source": [
        "Concluyendo en el comportamiento de los 3 casos, no importa como inicie y desde donde inicie, con el paso del tiempo la poblacion siempre tendera irse a su punto de equilibrio"
      ],
      "metadata": {
        "id": "UdHHMwCnn-_h"
      }
    },
    {
      "cell_type": "code",
      "source": [
        "#Codigo geogebra"
      ],
      "metadata": {
        "id": "s1msFRsQTKqg"
      },
      "execution_count": null,
      "outputs": []
    },
    {
      "cell_type": "markdown",
      "source": [
        "###**5) ¿Cómo afecta el valor de $r$ o $h$ al equilibrio poblacional?**"
      ],
      "metadata": {
        "id": "TpzKHdmiMQXD"
      }
    },
    {
      "cell_type": "markdown",
      "source": [
        "Para responder esta pregunta necesitamos entender que representa cada variable:"
      ],
      "metadata": {
        "id": "E9K4pgCWMokG"
      }
    },
    {
      "cell_type": "markdown",
      "source": [
        "- Recordemos que la variable $r$ representa el ingreso constante de estudiantes cada año\n",
        "- La variable $h$ representa la tasa de desercion proporcional de estudiantes"
      ],
      "metadata": {
        "id": "VteiRjBPoYb1"
      }
    },
    {
      "cell_type": "markdown",
      "source": [
        "Entonces llegamos a 4 casos, donde:"
      ],
      "metadata": {
        "id": "29Yj1-jKoWDq"
      }
    },
    {
      "cell_type": "markdown",
      "source": [
        "- **Si $r$ aumenta**: el valor del equilibrio crece proporcionalmente\n",
        "- **Si $r$ disminuye**: el valor del equilibrio baja\n",
        "- **Si $h$ aumenta**: el valor del denominador al crecer el valor del equilibrio disminuye\n",
        "- **Si $h$ disminuye**: el valor del equilibrio sube"
      ],
      "metadata": {
        "id": "ntJJ3O10oTG8"
      }
    },
    {
      "cell_type": "markdown",
      "source": [
        "En conclusión, entendemos que el valor del equilibrio poblacional depende en gran medida de la magnitud de una de las dos variables, lo cual se evidencia en los cuatro casos posibles."
      ],
      "metadata": {
        "id": "H2WRJWb6oUkR"
      }
    },
    {
      "cell_type": "code",
      "source": [
        "#Codigo geogebra"
      ],
      "metadata": {
        "id": "dmlCAqfaS2po"
      },
      "execution_count": null,
      "outputs": []
    },
    {
      "cell_type": "markdown",
      "source": [
        "###**6) ¿Que ocurre si el ingreso $r$ no alcanza a compensar la disercion?**"
      ],
      "metadata": {
        "id": "EixRrDIDQqLT"
      }
    },
    {
      "cell_type": "markdown",
      "source": [
        "Si la tasa de ingreso de estudiantes ($r$) no alcanza a compensar la tasa de desercion de los estudiantes (donde $\\frac{dx}{dt}= r-hx < 0$). Con el paso del tiempo entraran menos estudiantes y estaran desertando mas de lo que entran, llevando a un declive obvio donde el resultado esperado para la poblacion es 0"
      ],
      "metadata": {
        "id": "GsAA11xkREee"
      }
    },
    {
      "cell_type": "markdown",
      "source": [
        "###**7) ¿La solución simbólica se ajusta a los resultados de simulaciones numéricas?**"
      ],
      "metadata": {
        "id": "_zR4Ub9zSx2a"
      }
    },
    {
      "cell_type": "code",
      "source": [
        "# Numerical demonstration that the symbolic solution matches numerical simulation (linear model)\n",
        "import numpy as np\n",
        "import matplotlib.pyplot as plt\n",
        "from math import exp\n",
        "\n",
        "# Parameters (you can change these)\n",
        "r = 4.0    # ingreso\n",
        "d = 1.0    # desercion proporcional (denoted h/d previously)\n",
        "x0_list = [0.5, 2.0, 5.0]   # three different initial conditions\n",
        "tmax = 10.0\n",
        "dt = 0.001\n",
        "t = np.arange(0, tmax+dt, dt)\n",
        "\n",
        "def analytic_solution(t, x0, r, d):\n",
        "    return r/d + (x0 - r/d)*np.exp(-d*t)\n",
        "\n",
        "def euler_simulation(t, x0, r, d):\n",
        "    x = np.empty_like(t)\n",
        "    x[0] = x0\n",
        "    for i in range(1, len(t)):\n",
        "        x[i] = x[i-1] + dt*(r - d*x[i-1])\n",
        "    return x\n",
        "\n",
        "plt.figure(figsize=(8,5))\n",
        "for x0 in x0_list:\n",
        "    x_an = analytic_solution(t, x0, r, d)\n",
        "    x_num = euler_simulation(t, x0, r, d)\n",
        "    plt.plot(t, x_an, label=f'Analytic x0={x0}')\n",
        "    plt.plot(t, x_num, linestyle='--', label=f'Numeric x0={x0}')\n",
        "\n",
        "plt.xlabel('t')\n",
        "plt.ylabel('x(t)')\n",
        "plt.title('Analytic vs Euler numeric (model: dx/dt = r - d x)')\n",
        "plt.legend()\n",
        "plt.grid(True)\n",
        "plt.show()\n",
        "\n",
        "# Compute max absolute differences\n",
        "for x0 in x0_list:\n",
        "    x_an = analytic_solution(t, x0, r, d)\n",
        "    x_num = euler_simulation(t, x0, r, d)\n",
        "    maxdiff = np.max(np.abs(x_an - x_num))\n",
        "    end_diff = abs(x_an[-1] - x_num[-1])\n",
        "    print(f\"x0={x0}: max abs diff over [0,{tmax}] = {maxdiff:.3e}, end diff = {end_diff:.3e}\")\n",
        "\n"
      ],
      "metadata": {
        "colab": {
          "base_uri": "https://localhost:8080/",
          "height": 539
        },
        "id": "p1f4KwPgUSZa",
        "outputId": "d89277f9-5945-4f9c-e58f-d095ba5ca16f"
      },
      "execution_count": null,
      "outputs": [
        {
          "output_type": "display_data",
          "data": {
            "text/plain": [
              "<Figure size 800x500 with 1 Axes>"
            ],
            "image/png": "[encoded data removed]"
          },
          "metadata": {}
        },
        {
          "output_type": "stream",
          "name": "stdout",
          "text": [
            "x0=0.5: max abs diff over [0,10.0] = 6.441e-04, end diff = 7.930e-07\n",
            "x0=2.0: max abs diff over [0,10.0] = 3.680e-04, end diff = 4.532e-07\n",
            "x0=5.0: max abs diff over [0,10.0] = 1.840e-04, end diff = 2.266e-07\n"
          ]
        }
      ]
    },
    {
      "cell_type": "markdown",
      "source": [
        "Al realizar la comparacion entre las graficas donde se evalua el modelo lineal en diferentes valores de $x$, se observa que las curvas se superponen en diferentes condiciones iniciales de $x(0) = 0.5, 2, 5.$"
      ],
      "metadata": {
        "id": "kbhIhXRrZBOg"
      }
    },
    {
      "cell_type": "markdown",
      "source": [
        "La gráfica muestra que, sin importar el valor inicial, las curvas se acercan al mismo equilibrio  $r = \\frac{r}{h}$.\n",
        "\n",
        "Las líneas sólidas (analítica) y punteadas (numérica) se ven prácticamente iguales, lo que confirma que el modelo está bien resuelto y que la simulación numérica es confiable."
      ],
      "metadata": {
        "id": "y6GEBF7qZwLb"
      }
    },
    {
      "cell_type": "markdown",
      "source": [
        "##**Ejercicio aplicado al Modelo Logistico**"
      ],
      "metadata": {
        "id": "ReYiv6eCtKOT"
      }
    },
    {
      "cell_type": "markdown",
      "source": [
        "###**1) ¿Cuál es la solución analítica de esta ecuación?**"
      ],
      "metadata": {
        "id": "a4OZ8SLltTCy"
      }
    },
    {
      "cell_type": "markdown",
      "source": [
        "Recordemos que la solución de nuestro modelo logístico es el siguiente:"
      ],
      "metadata": {
        "id": "3z1XHNyroh2y"
      }
    },
    {
      "cell_type": "markdown",
      "source": [
        "$$ x = \\frac{He^{at}a}{1 + He^{at}b} $$"
      ],
      "metadata": {
        "id": "oqBKxccPotol"
      }
    },
    {
      "cell_type": "markdown",
      "source": [
        "En este punto para poder hallar la solución analítica necesitamos reemplazar las variables que conocemos.\n",
        "\n",
        "Recordemos:\n",
        "\n",
        "- $a = 0.25$\n",
        "\n",
        "- $b = \\frac{1}{120000}$"
      ],
      "metadata": {
        "id": "zMOIW7Jeozg4"
      }
    },
    {
      "cell_type": "markdown",
      "source": [
        "Reemplazando los valores que conocemos nos quedaría de esta forma:"
      ],
      "metadata": {
        "id": "lVmdId38pO2s"
      }
    },
    {
      "cell_type": "markdown",
      "source": [
        "$$ x = \\frac{He^{0.25t}0.25}{1 + He^{0.25t}\\frac{1}{120000}} $$"
      ],
      "metadata": {
        "id": "y8ioJk6BpSxP"
      }
    },
    {
      "cell_type": "markdown",
      "source": [
        "###**2) ¿Cuál es el valor de equilibrio poblacional?**"
      ],
      "metadata": {
        "id": "mW_KSKnspt3i"
      }
    },
    {
      "cell_type": "markdown",
      "source": [
        "Recordemos que el punto de equilibrio de nuestro modelo logístico es $\\frac{a}{b}$. Para ello, debemos tener en cuenta lo siguiente:\n",
        "\n",
        "- $a = 0.25$\n",
        "\n",
        "- $b = \\frac{1}{120000}$"
      ],
      "metadata": {
        "id": "l9uCZfn175YV"
      }
    },
    {
      "cell_type": "markdown",
      "source": [
        "Reemplazamos nuestros valores:\n",
        "\n",
        "$$ x = \\frac{0.25}{\\frac{1}{120000}} $$\n",
        "\n",
        "$$ x = 0.25 \\cdot 120000 $$\n",
        "\n",
        "$$ x = 30000 $$"
      ],
      "metadata": {
        "id": "ZC_NIZeJ8Rsh"
      }
    },
    {
      "cell_type": "markdown",
      "source": [
        "Siendo así que nuestro valor de equilibrio poblacional sea $ x=30000 $"
      ],
      "metadata": {
        "id": "-ss1sQcC-q53"
      }
    },
    {
      "cell_type": "markdown",
      "source": [
        "Para confirmarlo lo validaremos en nuestra grafica:"
      ],
      "metadata": {
        "id": "s5fTfLXv-5R_"
      }
    },
    {
      "cell_type": "code",
      "source": [
        "from IPython.display import IFrame\n",
        "\n",
        "IFrame(\"https://www.geogebra.org/classic/c2rhhbc5\", width=800, height=600)"
      ],
      "metadata": {
        "id": "n3WrFdLC_1bl",
        "colab": {
          "base_uri": "https://localhost:8080/",
          "height": 622
        },
        "outputId": "7960219f-9141-4909-9fd5-b87a6ca7289f"
      },
      "execution_count": 3,
      "outputs": [
        {
          "output_type": "execute_result",
          "data": {
            "text/plain": [
              "<IPython.lib.display.IFrame at 0x7ee1f1eab200>"
            ],
            "text/html": [
              "\n",
              "        <iframe\n",
              "            width=\"800\"\n",
              "            height=\"600\"\n",
              "            src=\"https://www.geogebra.org/classic/c2rhhbc5\"\n",
              "            frameborder=\"0\"\n",
              "            allowfullscreen\n",
              "            \n",
              "        ></iframe>\n",
              "        "
            ]
          },
          "metadata": {},
          "execution_count": 3
        }
      ]
    },
    {
      "cell_type": "markdown",
      "source": [
        "###**3) ¿La población crecerá o decrecerá desde los $10000$ estudiantes? ¿Se estabiliza?**"
      ],
      "metadata": {
        "id": "_byBvg98p2my"
      }
    },
    {
      "cell_type": "markdown",
      "source": [],
      "metadata": {
        "id": "kgpTYvHDqBUF"
      }
    },
    {
      "cell_type": "code",
      "source": [],
      "metadata": {
        "id": "gt_Jph6eq-Kn"
      },
      "execution_count": null,
      "outputs": []
    },
    {
      "cell_type": "markdown",
      "source": [
        "###**4) ¿Después de cuántos años se alcanza el 90 del equilibrio**"
      ],
      "metadata": {
        "id": "qnVPoF1V0dyY"
      }
    },
    {
      "cell_type": "markdown",
      "source": [
        "Para determinar cuántos años tarda en alcanzarse el 90% de la estabilidad, primero debemos calcular dicho valor:\n",
        "\n",
        "Estabilidad = $30000$\n",
        "\n",
        "90% de 30000 = $27000$"
      ],
      "metadata": {
        "id": "5OFXZlhr0nIB"
      }
    },
    {
      "cell_type": "markdown",
      "source": [
        "Recordemos lo siguiente:\n",
        "\n",
        "- Fórmula Implícita: $ ln(\\frac{x}{a-bx}) =at + c $\n",
        "\n",
        "- $a = \\frac{1}{4}$\n",
        "\n",
        "- $b = \\frac{1}{120000}$\n",
        "\n",
        "- $ x= 27000$\n",
        "\n",
        "- Constante: $ c = ? $"
      ],
      "metadata": {
        "id": "QU3-S5kl1Ne5"
      }
    },
    {
      "cell_type": "markdown",
      "source": [
        "Dado que en este punto no conocemos el valor de la constante, procederemos a despejarla a partir de la fórmula implícita."
      ],
      "metadata": {
        "id": "hIh1GYVhCoc-"
      }
    },
    {
      "cell_type": "markdown",
      "source": [
        "$$ ln(\\frac{x}{a-bx}) =at + c $$\n",
        "\n",
        "$$ ln(\\frac{10000}{0.25-\\frac{1}{120000}(10000)}) = 0.25 (0 + c) $$\n",
        "\n",
        "$$ ln(\\frac{10000}{0.25-\\frac{1}{12}}) = c $$\n",
        "\n",
        "$$ c \\approx 11.00 $$"
      ],
      "metadata": {
        "id": "97mPKdPnCmP-"
      }
    },
    {
      "cell_type": "markdown",
      "source": [
        "na vez determinado el valor de C, sustituiremos los valores en la fórmula implícita con el fin de obtener el resultado."
      ],
      "metadata": {
        "id": "n898Ko7d1y3r"
      }
    },
    {
      "cell_type": "markdown",
      "source": [
        "$$ ln(\\frac{27000}{\\frac{1}{4}-\\frac{1}{120000}(27000)}) = \\frac{1}{4} \\cdot (t + 11) $$\n",
        "\n",
        "$$ ln(\\frac{27000}{\\frac{1}{4}-\\frac{27}{120}}) = \\frac{t}{4} + 11 $$\n",
        "\n",
        "$$ ln(\\frac{27000}{\\frac{1}{40}}) = \\frac{t}{4} + 11 $$\n",
        "\n",
        "$$ ln((27000)(40)) = \\frac{t}{4} + 11 $$\n",
        "\n",
        "$$ 13.89 = \\frac{t}{4} + 11 $$\n",
        "\n",
        "$$ 4(13.89-11) = t $$\n",
        "\n",
        "$$ t ≈ 11.56 $$"
      ],
      "metadata": {
        "id": "0B006wcM2FY7"
      }
    },
    {
      "cell_type": "markdown",
      "source": [
        "En conclusión, aproximadamente después de 11.56 años el modelo alcanza el 90% del equilibrio."
      ],
      "metadata": {
        "id": "utASewrR33GT"
      }
    },
    {
      "cell_type": "markdown",
      "source": [
        "###**5) ¿Qué ocurriría si la tasa de crecimiento aumentara al 30?**"
      ],
      "metadata": {
        "id": "5DxFjJ1k4Vhw"
      }
    },
    {
      "cell_type": "markdown",
      "source": [
        "Para analizar qué ocurriría si la tasa aumenta al 30%, lo representaremos de manera gráfica."
      ],
      "metadata": {
        "id": "C31SEKLl4jpQ"
      }
    },
    {
      "cell_type": "code",
      "source": [
        "from IPython.display import IFrame\n",
        "\n",
        "IFrame(\"https://www.geogebra.org/classic/qrdcpvsw\", width=800, height=600)"
      ],
      "metadata": {
        "id": "nrHeabnZ50PE",
        "colab": {
          "base_uri": "https://localhost:8080/",
          "height": 622
        },
        "outputId": "5f15b913-74a0-4922-a7ae-b9a7f1076e6c"
      },
      "execution_count": 4,
      "outputs": [
        {
          "output_type": "execute_result",
          "data": {
            "text/plain": [
              "<IPython.lib.display.IFrame at 0x7ee1f1eaa7b0>"
            ],
            "text/html": [
              "\n",
              "        <iframe\n",
              "            width=\"800\"\n",
              "            height=\"600\"\n",
              "            src=\"https://www.geogebra.org/classic/qrdcpvsw\"\n",
              "            frameborder=\"0\"\n",
              "            allowfullscreen\n",
              "            \n",
              "        ></iframe>\n",
              "        "
            ]
          },
          "metadata": {},
          "execution_count": 4
        }
      ]
    },
    {
      "cell_type": "markdown",
      "source": [
        "En conclusión, de la gráfica se deduce que un incremento en la tasa de crecimiento retrasa la aproximación inicial al equilibrio, pero, a partir de un determinado punto, el modelo converge con mayor rapidez hacia su estabilidad."
      ],
      "metadata": {
        "id": "eqCq4buh_6Q3"
      }
    },
    {
      "cell_type": "markdown",
      "source": [
        "###**6) Interprete el término cuadrático en este contexto: ¿por qué crece la deserción con el número de estudiantes?**"
      ],
      "metadata": {
        "id": "zj5h810S4dUW"
      }
    },
    {
      "cell_type": "markdown",
      "source": [
        "El término cuadrático $bx^2$ indica que la deserción aumenta de forma acelerada a medida que crece el número de estudiantes. Esto ocurre porque, al haber más estudiantes, se intensifican los problemas de saturación (limitación de recurso).\n",
        "\n",
        "Por eso, la deserción no crece de manera lineal con la cantidad de estudiantes, sino que lo hace proporcional al cuadrado de la población: cuantos más estudiantes hay, mayor es la probabilidad de que aparezcan efectos que incrementan el abandono."
      ],
      "metadata": {
        "id": "0m3OfAVR4kMf"
      }
    },
    {
      "cell_type": "markdown",
      "source": [
        "##**Ejercicio aplicado al Modelo Lineal**"
      ],
      "metadata": {
        "id": "sr0FyFzks8TR"
      }
    },
    {
      "cell_type": "markdown",
      "source": [
        "###**1) Encuentre la solución analítica de la ecuación diferencial.**"
      ],
      "metadata": {
        "id": "3k4GmfrktTX0"
      }
    }
  ]
}