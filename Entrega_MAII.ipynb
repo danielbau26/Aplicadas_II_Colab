{
  "nbformat": 4,
  "nbformat_minor": 0,
  "metadata": {
    "colab": {
      "provenance": [],
      "include_colab_link": true
    },
    "kernelspec": {
      "name": "python3",
      "display_name": "Python 3"
    },
    "language_info": {
      "name": "python"
    }
  },
  "cells": [
    {
      "cell_type": "markdown",
      "metadata": {
        "id": "view-in-github",
        "colab_type": "text"
      },
      "source": [
        "<a href=\"https://colab.research.google.com/github/danielbau26/APLI-II/blob/main/Entrega_MAII.ipynb\" target=\"_parent\"><img src=\"https://colab.research.google.com/assets/colab-badge.svg\" alt=\"Open In Colab\"/></a>"
      ]
    },
    {
      "cell_type": "markdown",
      "source": [
        "#**RESPUESTAS:**\n",
        "\n"
      ],
      "metadata": {
        "id": "vuNTQNPt_5gM"
      }
    },
    {
      "cell_type": "markdown",
      "source": [
        "##**Contexto**"
      ],
      "metadata": {
        "id": "KlIuRoGFCyPp"
      }
    },
    {
      "cell_type": "markdown",
      "source": [
        "A lo largo del documento estaremos enfocados en el crecimiento poblacional.\n",
        "Pero, ¿qué pasaría si solo consideráramos un crecimiento poblacional sin límites?"
      ],
      "metadata": {
        "id": "twvEHZl7wqSV"
      }
    },
    {
      "cell_type": "markdown",
      "source": [
        "$$ \\frac{dx}{dt} = ax $$\n",
        "\n",
        "Donde:\n",
        "  - $x(t)$ es la población en el tiempo de $t$\n",
        "  - $a$ representa la tasa de crecimiento proporcional"
      ],
      "metadata": {
        "id": "Rdb4HM0Dzj4O"
      }
    },
    {
      "cell_type": "markdown",
      "source": [
        "Este modelo describe un crecimiento exponencial, es decir, mientras más estudiantes se matriculen, más rápido crecería la población estudiantil, sin que aparezca ningún freno. El problema es que este modelo no refleja la realidad, ya que en la práctica nada es infinito.\n",
        "\n",
        "Por esta razón debe existir algún freno al crecimiento. En el contexto institucional, dicho freno se da por la saturación de la capacidad. Con esto en mente, utilizaremos el modelo logístico para representar de manera más realista el crecimiento poblacional."
      ],
      "metadata": {
        "id": "CTGlxDJZzjrO"
      }
    },
    {
      "cell_type": "markdown",
      "source": [
        "##**Modelo Logistico:**\n",
        "\n",
        "$$ \\frac{dx}{dt} = ax - bx^2 $$\n",
        "\n",
        "Donde:\n",
        "  - $x(t)$ es la población en el tiempo de $t$\n",
        "  - $a$ representa la tasa de crecimiento proporcional\n",
        "  - $b$ representa la deserción por saturación (proporcional al cuadrado de la población)"
      ],
      "metadata": {
        "id": "7iQEH_7Hzjix"
      }
    },
    {
      "cell_type": "markdown",
      "source": [
        "#**Respuestas a preguntas tecnicas:**\n",
        "\n",
        "\n",
        "###**1) Encuentre la solución analítica del modelo logistico**"
      ],
      "metadata": {
        "id": "kBZwR7FM4g_2"
      }
    },
    {
      "cell_type": "markdown",
      "source": [
        "Entonces, a partir del modelo logístico necesitamos obtener la solución analítica, ya que es a través de ella que podremos realizar nuestras predicciones sobre el comportamiento de la población estudiantil en el tiempo."
      ],
      "metadata": {
        "id": "IFL-yf5RzjVx"
      }
    },
    {
      "cell_type": "markdown",
      "source": [
        "- Como primer paso lo que haremos es separar nuestro dt"
      ],
      "metadata": {
        "id": "xU4S8Ffa45_Z"
      }
    },
    {
      "cell_type": "markdown",
      "source": [
        "$$ \\frac{dx}{dt} = ax-bx^2 $$\n",
        "\n",
        "$$ dx = (ax-bx^2)dt $$\n",
        "\n",
        "$$ \\frac{dx}{ax-bx^2} = dt $$"
      ],
      "metadata": {
        "id": "z8xp6dctvBS3"
      }
    },
    {
      "cell_type": "markdown",
      "source": [],
      "metadata": {
        "id": "yy8OAJuo5owg"
      }
    },
    {
      "cell_type": "markdown",
      "source": [
        "$$ \\int \\frac{dx}{ax-bx^2} = \\int dt  $$\n",
        "\n",
        "$$ \\int \\frac{dx}{x(a-bx)} = \\int dt  $$"
      ],
      "metadata": {
        "id": "aixbUiMZ5oQI"
      }
    }
  ]
}