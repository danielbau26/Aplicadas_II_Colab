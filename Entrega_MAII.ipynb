{
  "nbformat": 4,
  "nbformat_minor": 0,
  "metadata": {
    "colab": {
      "provenance": [],
      "include_colab_link": true
    },
    "kernelspec": {
      "name": "python3",
      "display_name": "Python 3"
    },
    "language_info": {
      "name": "python"
    }
  },
  "cells": [
    {
      "cell_type": "markdown",
      "metadata": {
        "id": "view-in-github",
        "colab_type": "text"
      },
      "source": [
        "<a href=\"https://colab.research.google.com/github/danielbau26/APLI-II/blob/main/Entrega_MAII.ipynb\" target=\"_parent\"><img src=\"https://colab.research.google.com/assets/colab-badge.svg\" alt=\"Open In Colab\"/></a>"
      ]
    },
    {
      "cell_type": "markdown",
      "source": [
        "#**RESPUESTAS:**\n",
        "\n"
      ],
      "metadata": {
        "id": "vuNTQNPt_5gM"
      }
    },
    {
      "cell_type": "markdown",
      "source": [
        "##**Contexto**"
      ],
      "metadata": {
        "id": "KlIuRoGFCyPp"
      }
    },
    {
      "cell_type": "markdown",
      "source": [
        "A lo largo del documento estaremos enfocados en el crecimiento poblacional.\n",
        "Pero, ¿qué pasaría si solo consideráramos un crecimiento poblacional sin límites?"
      ],
      "metadata": {
        "id": "twvEHZl7wqSV"
      }
    },
    {
      "cell_type": "markdown",
      "source": [
        "$$ \\frac{dx}{dt} = ax $$\n",
        "\n",
        "Donde:\n",
        "  - $x(t)$ es la población en el tiempo de $t$\n",
        "  - $a$ representa la tasa de crecimiento proporcional"
      ],
      "metadata": {
        "id": "Rdb4HM0Dzj4O"
      }
    },
    {
      "cell_type": "markdown",
      "source": [
        "Este modelo describe un crecimiento exponencial, es decir, mientras más estudiantes se matriculen, más rápido crecería la población estudiantil, sin que aparezca ningún freno. El problema es que este modelo no refleja la realidad, ya que en la práctica nada es infinito.\n",
        "\n",
        "Por esta razón debe existir algún freno al crecimiento. En el contexto institucional, dicho freno se da por la saturación de la capacidad. Con esto en mente, utilizaremos el modelo logístico para representar de manera más realista el crecimiento poblacional."
      ],
      "metadata": {
        "id": "CTGlxDJZzjrO"
      }
    },
    {
      "cell_type": "markdown",
      "source": [
        "##**Modelo Logistico:**"
      ],
      "metadata": {
        "id": "EBMlxmdAEwBp"
      }
    },
    {
      "cell_type": "markdown",
      "source": [
        "$$ \\frac{dx}{dt} = ax - bx^2 $$\n",
        "\n",
        "Donde:\n",
        "  - $x(t)$ es la población en el tiempo de $t$\n",
        "  - $a$ representa la tasa de crecimiento proporcional\n",
        "  - $b$ representa la deserción por saturación (proporcional al cuadrado de la población)"
      ],
      "metadata": {
        "id": "7iQEH_7Hzjix"
      }
    },
    {
      "cell_type": "markdown",
      "source": [
        "#**Respuestas a preguntas tecnicas:**"
      ],
      "metadata": {
        "id": "kBZwR7FM4g_2"
      }
    },
    {
      "cell_type": "markdown",
      "source": [
        "###**1) Encuentre la solución analítica del modelo logistico**"
      ],
      "metadata": {
        "id": "RdErnECeEop6"
      }
    },
    {
      "cell_type": "markdown",
      "source": [
        "Entonces, a partir del modelo logístico necesitamos obtener la solución analítica, ya que es a través de ella que podremos realizar nuestras predicciones sobre el comportamiento de la población estudiantil en el tiempo."
      ],
      "metadata": {
        "id": "IFL-yf5RzjVx"
      }
    },
    {
      "cell_type": "markdown",
      "source": [
        "- Como primer paso, separamos las variables, dejando $dt$ aislado en un lado de la ecuación."
      ],
      "metadata": {
        "id": "xU4S8Ffa45_Z"
      }
    },
    {
      "cell_type": "markdown",
      "source": [
        "$$ \\frac{dx}{dt} = ax-bx^2 $$\n",
        "\n",
        "$$ dx = (ax-bx^2) \\cdot dt $$\n",
        "\n",
        "$$ \\frac{dx}{ax-bx^2} = dt $$"
      ],
      "metadata": {
        "id": "z8xp6dctvBS3"
      }
    },
    {
      "cell_type": "markdown",
      "source": [
        "- (Poner un comentario)"
      ],
      "metadata": {
        "id": "yy8OAJuo5owg"
      }
    },
    {
      "cell_type": "markdown",
      "source": [
        "$$ \\int \\frac{dx}{ax-bx^2} = \\int dt  $$\n",
        "\n",
        "$$ \\int \\frac{1}{x(a-bx)}\\cdot dx = \\int dt  $$"
      ],
      "metadata": {
        "id": "aixbUiMZ5oQI"
      }
    },
    {
      "cell_type": "markdown",
      "source": [
        "- Dado que no es posible continuar la integración de forma directa, descompondremos la fracción mediante fracciones parciales."
      ],
      "metadata": {
        "id": "V8VfiJ1q7oP1"
      }
    },
    {
      "cell_type": "markdown",
      "source": [
        "$$ \\frac{1}{x(a-bx)} $$\n",
        "\n",
        "$$ \\frac{A}{x} + \\frac{B}{a-bx} $$\n",
        "\n",
        "$$ 1 = A(a-bx) + B(x) $$\n",
        "\n",
        "$$ 1 = Aa - Abx + Bx $$\n",
        "\n",
        "$$ 1 = Aa + x(-Ab + B) $$\n",
        "\n",
        "$$ Aa = 1 \\; \\land \\; -Ab + B = 0 $$\n",
        "\n",
        "$$ Aa = 1 \\; \\land \\; -Ab + B = 0 $$\n",
        "\n",
        "$$ A= \\frac{1}{a} \\; \\land \\; -\\frac{1}{a}b + B = 0 $$\n",
        "\n",
        "$$ A= \\frac{1}{a} \\; \\land \\; B = \\frac{b}{a} $$\n",
        "\n",
        "$$ \\downarrow $$\n",
        "\n",
        "$$ \\frac{1}{x(a-bx)} =\\frac{1}{a} \\frac{1}{x} + \\frac{b}{a} \\frac{1}{a-bx} $$"
      ],
      "metadata": {
        "id": "EtqKr7927vky"
      }
    },
    {
      "cell_type": "markdown",
      "source": [
        "- A continuación, reemplazaremos esta descomposición en la integral que habíamos planteado previamente."
      ],
      "metadata": {
        "id": "eAyvfb7A-nR2"
      }
    },
    {
      "cell_type": "markdown",
      "source": [
        "$$ \\int \\frac{1}{a} \\frac{1}{x} + \\frac{b}{a} \\frac{1}{a-bx}\\cdot dx = \\int dt  $$\n",
        "\n",
        "$$ \\int \\frac{1}{a} \\frac{1}{x} \\cdot dx + \\int \\frac{b}{a} \\frac{1}{a-bx} \\cdot dx = t + c  $$\n",
        "\n",
        "$$ \\frac{1}{a} \\int \\frac{1}{x} \\cdot dx + \\frac{b}{a} \\int \\frac{1}{a-bx} \\cdot dx = t + c $$\n",
        "\n",
        "$$ \\frac{1}{a} \\cdot ln(x) + \\frac{b}{a} \\int \\frac{1}{a-bx} \\cdot dx = t + c $$"
      ],
      "metadata": {
        "id": "kUOYUSNO-3nJ"
      }
    },
    {
      "cell_type": "markdown",
      "source": [
        "- En este punto, la segunda integral no puede resolverse de forma directa, por lo tanto, aplicaremos una sustitución que nos permita integrarla correctamente."
      ],
      "metadata": {
        "id": "HnGnUzS3ABiq"
      }
    },
    {
      "cell_type": "markdown",
      "source": [
        "$$ \\int \\frac{1}{a-bx} \\cdot dx $$\n",
        "\n",
        "$$ u = a-bx $$\n",
        "\n",
        "$$ \\frac{du}{dx} = -b $$\n",
        "\n",
        "$$ du = -b \\cdot dx $$\n",
        "\n",
        "$$ -\\frac{du}{b} = dx $$\n",
        "\n",
        "$$ -\\frac{1}{b} \\cdot du = dx $$\n",
        "\n",
        "Reeemplazamos:\n",
        "\n",
        "$$ \\int \\frac{1}{u} \\cdot \\frac{1}{-b} \\cdot du $$"
      ],
      "metadata": {
        "id": "vLDQghdLAMFZ"
      }
    },
    {
      "cell_type": "markdown",
      "source": [
        "- Teniendo ya definida nuestra sustitución, continuamos con el proceso de integración a partir de la expresión obtenida anteriormente."
      ],
      "metadata": {
        "id": "km9v8r35BGTs"
      }
    },
    {
      "cell_type": "markdown",
      "source": [
        "$$ \\frac{1}{a} \\cdot ln(x) + \\frac{b}{a} \\int \\frac{1}{u} \\cdot \\frac{1}{-b} \\cdot du = t + c $$\n",
        "\n",
        "$$ \\frac{1}{a} \\cdot ln(x) + \\frac{b}{a} \\cdot \\frac{1}{-b} \\int \\frac{1}{u} \\cdot du = t + c $$\n",
        "\n",
        "$$ \\frac{1}{a} \\cdot ln(x) - \\frac{1}{a} \\cdot ln(u) = t + c $$"
      ],
      "metadata": {
        "id": "5mD-TLcBBQ13"
      }
    },
    {
      "cell_type": "markdown",
      "source": [
        "- Una vez realizada la integración, no debemos olvidar aplicar nuestra sustitución.\n",
        "\n",
        "  Recordemos que la variable auxiliar era $u=a-bx$"
      ],
      "metadata": {
        "id": "OADSIqzZCZ4K"
      }
    },
    {
      "cell_type": "markdown",
      "source": [
        "$$ \\frac{1}{a} \\cdot ln(x) - \\frac{1}{a} \\cdot ln(a-bx) = t + c $$"
      ],
      "metadata": {
        "id": "_2sV3VSJCw1U"
      }
    },
    {
      "cell_type": "markdown",
      "source": [
        "- En este punto ya contamos con la solución general de la ecuación. Sin embargo, lo que realmente necesitamos es obtener la solución analítica, es decir, la expresión explícita de\n",
        "$x(𝑡)$\n",
        "\n",
        "  Para lograrlo debemos despejar $x$, y de esta manera podremos realizar nuestras predicciones sobre el crecimiento poblacional a lo largo del tiempo."
      ],
      "metadata": {
        "id": "7EbSn3pbCz48"
      }
    },
    {
      "cell_type": "markdown",
      "source": [
        "$$ \\frac{1}{a} \\cdot ln(x) - \\frac{1}{a} \\cdot ln(a-bx) = t + c $$\n",
        "\n",
        "$$ \\frac{1}{a} \\cdot (ln(x) - ln(a-bx)) = t + c $$\n",
        "\n",
        "$$ \\frac{1}{a} \\cdot (ln(\\frac{x}{a-bx})) = t + c $$\n",
        "\n",
        "$$ ln(\\frac{x}{a-bx}) = a \\cdot (t + c) $$\n",
        "\n",
        "$$ e^{ln(\\frac{x}{a-bx})} = e^{a \\cdot (t + c)} $$\n",
        "\n",
        "$$ \\frac{x}{a-bx} = e^{at + ac} $$\n",
        "\n",
        "$$ \\frac{x}{a-bx} = e^{at} \\cdot e^{ac} $$\n",
        "\n",
        "$$ \\frac{x}{a-bx} = He^{at}  $$"
      ],
      "metadata": {
        "id": "sUyspO75Ekq9"
      }
    },
    {
      "cell_type": "markdown",
      "source": [
        "###**2) ¿Qué representa el equilibrio poblacional en este modelo?**"
      ],
      "metadata": {
        "id": "vv19z6i0Gzuj"
      }
    },
    {
      "cell_type": "markdown",
      "source": [],
      "metadata": {
        "id": "n8IAoAsLG_zO"
      }
    }
  ]
}