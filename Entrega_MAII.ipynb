{
  "nbformat": 4,
  "nbformat_minor": 0,
  "metadata": {
    "colab": {
      "provenance": [],
      "collapsed_sections": [
        "KlIuRoGFCyPp",
        "EBMlxmdAEwBp",
        "6AEEft7GHrni",
        "3gIUPIvTIZkW"
      ],
      "include_colab_link": true
    },
    "kernelspec": {
      "name": "python3",
      "display_name": "Python 3"
    },
    "language_info": {
      "name": "python"
    }
  },
  "cells": [
    {
      "cell_type": "markdown",
      "metadata": {
        "id": "view-in-github",
        "colab_type": "text"
      },
      "source": [
        "<a href=\"https://colab.research.google.com/github/danielbau26/Aplicadas_II_Colab/blob/main/Entrega_MAII.ipynb\" target=\"_parent\"><img src=\"https://colab.research.google.com/assets/colab-badge.svg\" alt=\"Open In Colab\"/></a>"
      ]
    },
    {
      "cell_type": "markdown",
      "source": [
        "#**RESPUESTAS:**\n",
        "\n"
      ],
      "metadata": {
        "id": "vuNTQNPt_5gM"
      }
    },
    {
      "cell_type": "markdown",
      "source": [
        "##**Contexto del Modelo Logístico**"
      ],
      "metadata": {
        "id": "KlIuRoGFCyPp"
      }
    },
    {
      "cell_type": "markdown",
      "source": [
        "A lo largo del documento estaremos enfocados en el crecimiento poblacional.\n",
        "Pero, ¿qué pasaría si solo consideráramos un crecimiento poblacional sin límites?"
      ],
      "metadata": {
        "id": "twvEHZl7wqSV"
      }
    },
    {
      "cell_type": "markdown",
      "source": [
        "$$ \\frac{dx}{dt} = ax $$\n",
        "\n",
        "Donde:\n",
        "  - $x(t)$ es la población en el tiempo de $t$\n",
        "  - $a$ representa la tasa de crecimiento proporcional"
      ],
      "metadata": {
        "id": "Rdb4HM0Dzj4O"
      }
    },
    {
      "cell_type": "markdown",
      "source": [
        "Este modelo describe un crecimiento exponencial, es decir, mientras más estudiantes se matriculen, más rápido crecería la población estudiantil, sin que aparezca ningún freno. El problema es que este modelo no refleja la realidad, ya que en la práctica nada es infinito.\n",
        "\n",
        "Por esta razón debe existir algún freno al crecimiento. En el contexto institucional, dicho freno se da por la saturación de la capacidad. Con esto en mente, utilizaremos el modelo logístico para representar de manera más realista el crecimiento poblacional."
      ],
      "metadata": {
        "id": "CTGlxDJZzjrO"
      }
    },
    {
      "cell_type": "markdown",
      "source": [
        "##**Modelo Logístico:**"
      ],
      "metadata": {
        "id": "EBMlxmdAEwBp"
      }
    },
    {
      "cell_type": "markdown",
      "source": [
        "$$ \\frac{dx}{dt} = ax - bx^2 $$\n",
        "\n",
        "Donde:\n",
        "  - $x(t)$ es la población en el tiempo de $t$\n",
        "  - $a$ representa la tasa de crecimiento proporcional\n",
        "  - $b$ representa la deserción por saturación (proporcional al cuadrado de la población)"
      ],
      "metadata": {
        "id": "7iQEH_7Hzjix"
      }
    },
    {
      "cell_type": "markdown",
      "source": [
        "##**Respuestas a preguntas tecnicas del Modelo Logístico:**"
      ],
      "metadata": {
        "id": "kBZwR7FM4g_2"
      }
    },
    {
      "cell_type": "markdown",
      "source": [
        "###**1) Encuentre la solución analítica del modelo logistico**"
      ],
      "metadata": {
        "id": "RdErnECeEop6"
      }
    },
    {
      "cell_type": "markdown",
      "source": [
        "Entonces, a partir del modelo logístico necesitamos obtener la solución analítica, ya que a través de ella podremos realizar nuestras predicciones sobre el comportamiento de la población estudiantil en el tiempo."
      ],
      "metadata": {
        "id": "IFL-yf5RzjVx"
      }
    },
    {
      "cell_type": "markdown",
      "source": [
        "- Como primer paso, separamos las variables, dejando $dt$ aislado en un lado de la ecuación."
      ],
      "metadata": {
        "id": "xU4S8Ffa45_Z"
      }
    },
    {
      "cell_type": "markdown",
      "source": [
        "$$ \\frac{dx}{dt} = ax-bx^2 $$\n",
        "\n",
        "$$ dx = (ax-bx^2) \\cdot dt $$\n",
        "\n",
        "$$ \\frac{dx}{ax-bx^2} = dt $$"
      ],
      "metadata": {
        "id": "z8xp6dctvBS3"
      }
    },
    {
      "cell_type": "markdown",
      "source": [
        "- Después de haber separado las variables y dejado $dt$ aislado, el siguiente paso consiste en integrar ambos lados de la ecuación. Al hacerlo, podremos eliminar la derivada y obtener una expresión más manejable para llegar a nuestra solución."
      ],
      "metadata": {
        "id": "yy8OAJuo5owg"
      }
    },
    {
      "cell_type": "markdown",
      "source": [
        "$$ \\int \\frac{dx}{ax-bx^2} = \\int dt  $$\n",
        "\n",
        "$$ \\int \\frac{1}{ax-bx^2}\\cdot dx = \\int dt  $$\n",
        "\n",
        "$$ \\int \\frac{1}{x(a-bx)}\\cdot dx = \\int dt  $$"
      ],
      "metadata": {
        "id": "aixbUiMZ5oQI"
      }
    },
    {
      "cell_type": "markdown",
      "source": [
        "- Dado que no es posible continuar la integración de forma directa, descompondremos la fracción mediante fracciones parciales."
      ],
      "metadata": {
        "id": "V8VfiJ1q7oP1"
      }
    },
    {
      "cell_type": "markdown",
      "source": [
        "$$ \\frac{1}{x(a-bx)} $$\n",
        "\n",
        "$$ \\frac{A}{x} + \\frac{B}{a-bx} $$\n",
        "\n",
        "$$ \\frac{1}{x} \\cdot A + \\frac{1}{a-bx} \\cdot B $$\n",
        "\n",
        "$$ 1 = A(a-bx) + B(x) $$\n",
        "\n",
        "$$ 1 = Aa - Abx + Bx $$\n",
        "\n",
        "$$ 1 = Aa + x(-Ab + B) $$\n",
        "\n",
        "$$ Aa = 1 \\; \\land \\; -Ab + B = 0 $$\n",
        "\n",
        "$$ A= \\frac{1}{a} \\; \\land \\; -\\frac{1}{a}b + B = 0 $$\n",
        "\n",
        "$$ A= \\frac{1}{a} \\; \\land \\; B = \\frac{b}{a} $$\n",
        "\n",
        "$$ \\downarrow $$\n",
        "\n",
        "$$ \\frac{1}{x(a-bx)} =\\frac{1}{a} \\frac{1}{x} + \\frac{b}{a} \\frac{1}{a-bx} $$"
      ],
      "metadata": {
        "id": "EtqKr7927vky"
      }
    },
    {
      "cell_type": "markdown",
      "source": [
        "- A continuación, reemplazaremos esta descomposición en la integral que habíamos planteado previamente."
      ],
      "metadata": {
        "id": "eAyvfb7A-nR2"
      }
    },
    {
      "cell_type": "markdown",
      "source": [
        "$$ \\int \\frac{1}{a} \\frac{1}{x} + \\frac{b}{a} \\frac{1}{a-bx}\\cdot dx = \\int dt  $$\n",
        "\n",
        "$$ \\int \\frac{1}{a} \\frac{1}{x} \\cdot dx + \\int \\frac{b}{a} \\frac{1}{a-bx} \\cdot dx = t + c  $$\n",
        "\n",
        "$$ \\frac{1}{a} \\int \\frac{1}{x} \\cdot dx + \\frac{b}{a} \\int \\frac{1}{a-bx} \\cdot dx = t + c $$\n",
        "\n",
        "$$ \\frac{1}{a} \\cdot ln(x) + \\frac{b}{a} \\int \\frac{1}{a-bx} \\cdot dx = t + c $$"
      ],
      "metadata": {
        "id": "kUOYUSNO-3nJ"
      }
    },
    {
      "cell_type": "markdown",
      "source": [
        "- En este punto, la segunda integral no puede resolverse de forma directa, por lo tanto, aplicaremos una sustitución que nos permita integrarla correctamente."
      ],
      "metadata": {
        "id": "HnGnUzS3ABiq"
      }
    },
    {
      "cell_type": "markdown",
      "source": [
        "$$ \\int \\frac{1}{a-bx} \\cdot dx $$\n",
        "\n",
        "$$ u = a-bx $$\n",
        "\n",
        "$$ \\frac{du}{dx} = -b $$\n",
        "\n",
        "$$ du = -b \\cdot dx $$\n",
        "\n",
        "$$ -\\frac{du}{b} = dx $$\n",
        "\n",
        "$$ -\\frac{1}{b} \\cdot du = dx $$\n",
        "\n",
        "Reeemplazamos:\n",
        "\n",
        "$$ \\int \\frac{1}{u} \\cdot \\frac{1}{-b} \\cdot du $$"
      ],
      "metadata": {
        "id": "vLDQghdLAMFZ"
      }
    },
    {
      "cell_type": "markdown",
      "source": [
        "- Teniendo ya definida nuestra sustitución, continuamos con el proceso de integración a partir de la expresión obtenida anteriormente."
      ],
      "metadata": {
        "id": "km9v8r35BGTs"
      }
    },
    {
      "cell_type": "markdown",
      "source": [
        "$$ \\frac{1}{a} \\cdot ln(x) + \\frac{b}{a} \\int \\frac{1}{u} \\cdot \\frac{1}{-b} \\cdot du = t + c $$\n",
        "\n",
        "$$ \\frac{1}{a} \\cdot ln(x) + \\frac{b}{a} \\cdot \\frac{1}{-b} \\int \\frac{1}{u} \\cdot du = t + c $$\n",
        "\n",
        "$$ \\frac{1}{a} \\cdot ln(x) - \\frac{1}{a} \\cdot ln(u) = t + c $$"
      ],
      "metadata": {
        "id": "5mD-TLcBBQ13"
      }
    },
    {
      "cell_type": "markdown",
      "source": [
        "- Una vez realizada la integración, no debemos olvidar aplicar nuestra sustitución.\n",
        "\n",
        "  Recordemos que la variable auxiliar era $u=a-bx$"
      ],
      "metadata": {
        "id": "OADSIqzZCZ4K"
      }
    },
    {
      "cell_type": "markdown",
      "source": [
        "$$ \\frac{1}{a} \\cdot ln(x) - \\frac{1}{a} \\cdot ln(a-bx) = t + c $$"
      ],
      "metadata": {
        "id": "_2sV3VSJCw1U"
      }
    },
    {
      "cell_type": "markdown",
      "source": [
        "- En este punto ya contamos con la solución general de la ecuación. Sin embargo, lo que realmente necesitamos es obtener la solución particular, es decir, la expresión explícita de\n",
        "$x(𝑡)$\n",
        "\n",
        "  Para lograrlo debemos despejar $x$, y de esta manera podremos realizar nuestras predicciones sobre el crecimiento poblacional a lo largo del tiempo."
      ],
      "metadata": {
        "id": "7EbSn3pbCz48"
      }
    },
    {
      "cell_type": "markdown",
      "source": [
        "$$ \\frac{1}{a} \\cdot ln(x) - \\frac{1}{a} \\cdot ln(a-bx) = t + c $$\n",
        "\n",
        "$$ \\frac{1}{a} \\cdot (ln(x) - ln(a-bx)) = t + c $$\n",
        "\n",
        "$$ \\frac{1}{a} \\cdot (ln(\\frac{x}{a-bx})) = t + c $$\n",
        "\n",
        "$$ ln(\\frac{x}{a-bx}) = a \\cdot (t + c) $$\n",
        "\n",
        "$$ e^{ln(\\frac{x}{a-bx})} = e^{a \\cdot (t + c)} $$\n",
        "\n",
        "$$ \\frac{x}{a-bx} = e^{at + ac} $$\n",
        "\n",
        "$$ \\frac{x}{a-bx} = e^{at} \\cdot e^{ac} $$"
      ],
      "metadata": {
        "id": "sUyspO75Ekq9"
      }
    },
    {
      "cell_type": "markdown",
      "source": [
        "- Donde la expresion $e^{ac}$ la interpretaremos con una constante $H$"
      ],
      "metadata": {
        "id": "W0WfuWEZw9D0"
      }
    },
    {
      "cell_type": "markdown",
      "source": [
        "$$ \\frac{x}{a-bx} = He^{at}  $$\n",
        "\n",
        "$$ x = He^{at}(a-bx) $$\n",
        "\n",
        "$$ x = He^{at}a - He^{at}bx $$\n",
        "\n",
        "$$ x + He^{at}bx = He^{at}a $$\n",
        "\n",
        "$$ x(1 + He^{at}b) = He^{at}a $$\n",
        "\n",
        "$$ x = \\frac{He^{at}a}{1 + He^{at}b} $$"
      ],
      "metadata": {
        "id": "TBb5A-hxw8m2"
      }
    },
    {
      "cell_type": "markdown",
      "source": [
        "###**2) ¿Qué representa el equilibrio poblacional en este modelo?**"
      ],
      "metadata": {
        "id": "vv19z6i0Gzuj"
      }
    },
    {
      "cell_type": "markdown",
      "source": [
        "- El equilibrio poblacional en el modelo logístico corresponde al valor estable al que converge el modelo logístico en el largo plazo, es decir, cuando $ \\frac{dx}{dt} = 0$\n",
        "\n",
        "- En otras palabras, aunque la población inicial crezca o disminuya, con el tiempo la cantidad de estudiantes se estabilizará.\n",
        "\n",
        "- Este comportamiento se explica porque la población crece por efecto de la tasa de crecimiento proporcional\n",
        "$(ax)$, pero simultáneamente decrece debido a la tasa de deserción por saturación $(bx^2)$.\n",
        "\n",
        "  $$ ax=bx^2 $$\n",
        "\n",
        "-  **Por lo tanto, el crecimiento se compensa con las pérdidas, y la población deja de aumentar o disminuir.**"
      ],
      "metadata": {
        "id": "n8IAoAsLG_zO"
      }
    },
    {
      "cell_type": "markdown",
      "source": [
        "###**3) ¿Se alcanza un valor estable? ¿En qué condiciones?**"
      ],
      "metadata": {
        "id": "v_dso-Mn8mjs"
      }
    },
    {
      "cell_type": "markdown",
      "source": [
        "Para lograr que nuestro modelo logístico alcance un valor estable, primero necesitamos aplicar la condición de equilibrio, es decir, cuando la tasa de cambio de la población se anula:"
      ],
      "metadata": {
        "id": "rwd9yQc-Fkel"
      }
    },
    {
      "cell_type": "markdown",
      "source": [
        "$$ \\frac{dx}{dt} = 0 $$"
      ],
      "metadata": {
        "id": "_xVxc_MUGKpC"
      }
    },
    {
      "cell_type": "markdown",
      "source": [
        "Una vez identificamos que debemos igualar la derivada a cero para hallar los puntos de equilibrio, procedemos a desarrollar la ecuación."
      ],
      "metadata": {
        "id": "mC3D-AyeGNgW"
      }
    },
    {
      "cell_type": "markdown",
      "source": [
        "$$ \\frac{dx}{dt} = ax-bx^2 $$\n",
        "\n",
        "$$ \\frac{dx}{dt} = x(a-bx) $$\n",
        "\n",
        "$$ 0 = x(a-bx) $$\n",
        "\n",
        "$$ x=0 \\; \\land \\; x=\\frac{a}{b} $$"
      ],
      "metadata": {
        "id": "uxmNHeit8rl5"
      }
    },
    {
      "cell_type": "markdown",
      "source": [
        "Después de haber resuelto la ecuación, obtenemos dos posibles valores de equilibrio:\n",
        "\n",
        "$$ x=0 \\; \\land \\; x=\\frac{a}{b} $$\n",
        "\n",
        "Ahora surge la pregunta: ¿cuál de ellos es el equilibrio real que describe la situación?"
      ],
      "metadata": {
        "id": "ZEwnDaGNDIp_"
      }
    },
    {
      "cell_type": "markdown",
      "source": [
        "Para responderla, debemos analizar la estabilidad de cada punto evaluando la derivada de nuestro modelo logístico:"
      ],
      "metadata": {
        "id": "9E2JQfLuPDhn"
      }
    },
    {
      "cell_type": "markdown",
      "source": [
        "$$ \\frac{dx}{dt} = x(a-bx) $$\n",
        "\n",
        "$$ \\frac{d^2x}{d^2t} = (a-bx) + x(-b) $$"
      ],
      "metadata": {
        "id": "4o00YocbPrFj"
      }
    },
    {
      "cell_type": "markdown",
      "source": [
        "Ya teniendo nuestra segunda derivada lo que tendremos que hacer a continuación es validar nuestros dos valores $ x=0 \\; \\land \\; x=\\frac{a}{b} $ en nuestra segunda derivada."
      ],
      "metadata": {
        "id": "WXLfg6MUP983"
      }
    },
    {
      "cell_type": "markdown",
      "source": [
        "$$ \\frac{d^2x}{d^2t} = (a-bx) + x(-b) $$\n",
        "\n",
        "Evaluamos $ x=0 $\n",
        "\n",
        "$$ = (a-b(0)) + (0)(-b) $$\n",
        "\n",
        "$$ = a \\longrightarrow a>0$$\n",
        "\n",
        "**Un valor positivo indica que el equilibrio es inestable, ya que pequeñas perturbaciones hacen crecer la población y alejarse de este punto.**\n",
        "\n",
        "Ahora, evaluamos $ x= \\frac{a}{b} $\n",
        "\n",
        "$$ = (a-b(\\frac{a}{b})) + (\\frac{a}{b})(-b) $$\n",
        "\n",
        "$$ = -a \\longrightarrow -a<0 $$\n",
        "\n",
        "**Un valor negativo indica que el equilibrio es estable, ya que perturbaciones cercanas tienden a regresar a este punto.**"
      ],
      "metadata": {
        "id": "xB1Nbh2cS4ka"
      }
    },
    {
      "cell_type": "markdown",
      "source": [
        "Por lo tanto, aunque existan dos soluciones, el equilibro significativo de nuestro modelo es:\n",
        "\n",
        "$$ x=\\frac{a}{b} $$"
      ],
      "metadata": {
        "id": "1JeMB3XZHT4N"
      }
    },
    {
      "cell_type": "code",
      "source": [
        "#Codigo"
      ],
      "metadata": {
        "id": "ffrYOrNfIV34"
      },
      "execution_count": null,
      "outputs": []
    },
    {
      "cell_type": "markdown",
      "source": [
        "###**4) ¿Cómo se comporta la solución cuando $ t \\longrightarrow ∞ $?**"
      ],
      "metadata": {
        "id": "MK_HNKNsV183"
      }
    },
    {
      "cell_type": "markdown",
      "source": [],
      "metadata": {
        "id": "CgQaYfx5WNn4"
      }
    },
    {
      "cell_type": "markdown",
      "source": [
        "##**Modelo Lineal:**"
      ],
      "metadata": {
        "id": "6AEEft7GHrni"
      }
    },
    {
      "cell_type": "markdown",
      "source": [
        "$$ \\frac{dx}{dt} = r-hx $$\n",
        "\n",
        "Donde:\n",
        "  - $r$ es el ingreso constante de nuevos estudiantes por año\n",
        "  - $h$ es la tasa de deserción proporcional\n",
        "  - $x(t)$ es la población universitaria en el tiempo $t$"
      ],
      "metadata": {
        "id": "JAUi92uxHwmf"
      }
    },
    {
      "cell_type": "markdown",
      "source": [
        "##**Respuestas a preguntas tecnicas del modelo lineal:**"
      ],
      "metadata": {
        "id": "3gIUPIvTIZkW"
      }
    },
    {
      "cell_type": "markdown",
      "source": [
        "###**1) Encuentre la solución analítica del modelo lineal**"
      ],
      "metadata": {
        "id": "-nt2f-p9IfYj"
      }
    },
    {
      "cell_type": "markdown",
      "source": [
        "(Poner un comentario)"
      ],
      "metadata": {
        "id": "WULoZvb9JBnY"
      }
    },
    {
      "cell_type": "markdown",
      "source": [
        "- Como primer paso, separamos las variables, dejando $dt$ aislado en un lado de la ecuación."
      ],
      "metadata": {
        "id": "dUpzoJtdJEA2"
      }
    },
    {
      "cell_type": "markdown",
      "source": [
        "$$ \\frac{dx}{dt} = r-hx $$\n",
        "\n",
        "$$ dx = (r-hx) \\cdot dt $$\n",
        "\n",
        "$$ \\frac{dx}{r-hx} = dt $$"
      ],
      "metadata": {
        "id": "SFBqH-iyJJu0"
      }
    },
    {
      "cell_type": "markdown",
      "source": [
        "- Después de haber separado las variables y dejado $dt$ aislado, el siguiente paso consiste en integrar ambos lados de la ecuación. Al hacerlo, podremos eliminar la derivada y obtener una expresión más manejable para llegar a nuestra solución."
      ],
      "metadata": {
        "id": "BGiUNIwNJsfT"
      }
    },
    {
      "cell_type": "markdown",
      "source": [
        "$$ \\int \\frac{dx}{r-hx} = \\int dt $$\n",
        "\n",
        "$$ \\int \\frac{1}{r-hx} \\cdot dx = \\int dt $$"
      ],
      "metadata": {
        "id": "_S1AB8FtJvE9"
      }
    },
    {
      "cell_type": "markdown",
      "source": [
        "- Llegados a este punto, la integral no puede resolverse de manera directa. Por esta razón, aplicaremos el método de sustitución, lo cual nos permitirá simplificar la expresión y continuar con el proceso de integración."
      ],
      "metadata": {
        "id": "33iHpuNeKCk9"
      }
    },
    {
      "cell_type": "markdown",
      "source": [
        "$$ u = r-hx $$\n",
        "\n",
        "$$ \\frac{du}{dx} = -h $$\n",
        "\n",
        "$$ du = -h \\cdot dx $$\n",
        "\n",
        "$$ \\frac{du}{-h} = dx $$\n",
        "\n",
        "$$ \\frac{1}{-h} \\cdot du = dx $$\n",
        "\n",
        "Reemplazamos\n",
        "\n",
        "$$ \\int \\frac{1}{u} \\cdot \\frac{1}{-h} \\cdot du $$"
      ],
      "metadata": {
        "id": "Y_4fSUsKKPXY"
      }
    },
    {
      "cell_type": "markdown",
      "source": [
        "- Teniendo ya definida nuestra sustitución, continuamos con el proceso de integración a partir de la expresión obtenida anteriormente."
      ],
      "metadata": {
        "id": "02QZIHdEK30X"
      }
    },
    {
      "cell_type": "markdown",
      "source": [
        "$$ \\int \\frac{1}{u} \\cdot \\frac{1}{-h} \\cdot du = \\int dt $$\n",
        "\n",
        "$$ \\frac{1}{-h} \\int \\frac{1}{u} \\cdot du = t + c $$\n",
        "\n",
        "$$ \\frac{1}{-h} \\cdot ln(u) = t+c $$"
      ],
      "metadata": {
        "id": "2729o19QLPLU"
      }
    },
    {
      "cell_type": "markdown",
      "source": [
        "- Una vez realizada la integración, no debemos olvidar aplicar nuestra sustitución.\n",
        "\n",
        "  Recordemos que la variable auxiliar era $u=r-hx$"
      ],
      "metadata": {
        "id": "cPtQohouLyKk"
      }
    },
    {
      "cell_type": "markdown",
      "source": [
        "$$ \\frac{1}{-h} \\cdot ln(r-hx) = t+c $$"
      ],
      "metadata": {
        "id": "SRM-6hjQL-Ys"
      }
    },
    {
      "cell_type": "markdown",
      "source": [
        "- En este punto ya contamos con la solución general de la ecuación. Sin embargo, lo que realmente necesitamos es obtener la solución analítica, es decir, la expresión explícita de\n",
        "$x(𝑡)$\n",
        "\n",
        "  Para lograrlo debemos despejar $x$, y de esta manera podremos realizar nuestras predicciones sobre el crecimiento poblacional a lo largo del tiempo."
      ],
      "metadata": {
        "id": "RcecY5ZsPh8d"
      }
    },
    {
      "cell_type": "markdown",
      "source": [
        "$$ ln(r-hx) = -h(t+c)  $$\n",
        "\n",
        "$$ e^{ln(r-hx)} = e^{-h(t+c)}  $$\n",
        "\n",
        "$$ r-hx = e^{-ht + hc} $$\n",
        "\n",
        "$$ r-hx = e^{-ht} \\cdot e^{-hc} $$\n",
        "\n",
        "$$ r-hx = Ae^{-ht} $$\n",
        "\n",
        "$$ hx-r = -Ae^{-ht} $$\n",
        "\n",
        "$$ hx = -Ae^{-ht} + r $$\n",
        "\n",
        "$$ x = \\frac{-Ae^{-ht} + r}{h} $$"
      ],
      "metadata": {
        "id": "6-VjtkCZPhgH"
      }
    }
  ]
}